{
 "cells": [
  {
   "cell_type": "markdown",
   "id": "8b14cc90",
   "metadata": {},
   "source": [
    "# Further Exploration\n",
    "## A bit more on the structure of `seaborn`\n",
    "\n",
    "`seaborn` plotting functions are split into 'axes-level' and 'figure-level' functions. Axes-level functions are functions such as `lineplot` and `kdeplot`; they plot onto a `matplotlib.pyplot.Axes` object which they then return for further modifications if needed. Figure-level functions will instead interface with `matplotlib` through a `seaborn` object (generally a `FacetGrid`) which you can use to customise the plot further. Each module has a single figure-level function that can access all the axis-level functions below it:\n",
    "\n",
    "![figure-level functions](https://seaborn.pydata.org/_images/function_overview_8_0.png)\n",
    "\n",
    "Note that plotting using figure-level functions produces plots that look similar to the relevant axis-level functions, however the legend will be outside of the plot.\n",
    "\n",
    "Figure-level functions also provide easy ways to facet plots (simply pass variables to the `row` and `col` arguments).\n",
    "\n",
    "## Further details\n",
    "\n",
    "Axes-level functions own their plots, so you can place them independently on a plot grid like the following static example pulled from the `seaborn` website."
   ]
  },
  {
   "cell_type": "raw",
   "id": "8a49144a",
   "metadata": {},
   "source": [
    "f, axs = plt.subplots(1, 2, figsize=(8, 4), gridspec_kw=dict(width_ratios=[4, 3]))\n",
    "sns.scatterplot(data=penguins, x=\"flipper_length_mm\", y=\"bill_length_mm\", hue=\"species\", ax=axs[0])\n",
    "sns.histplot(data=penguins, x=\"species\", hue=\"species\", shrink=.8, alpha=.8, legend=False, ax=axs[1])\n",
    "f.tight_layout()"
   ]
  },
  {
   "cell_type": "markdown",
   "id": "fda4b4d3",
   "metadata": {},
   "source": [
    "![subplots](https://seaborn.pydata.org/_images/function_overview_17_0.png)"
   ]
  },
  {
   "cell_type": "markdown",
   "id": "68d33683",
   "metadata": {},
   "source": [
    "Figure-level plots are 'whole' plots, and therefore are harder to place on subplot grids like the above, this is also why the legend can appear outside of the chart itself for these functions. Additional customisation can be brought forth using the `FacetGrid` object that the figure-level plot returns.\n",
    "\n",
    "## Other plots\n",
    "\n",
    "Two functions don't fit neatly into the categories seen above, namely `jointplot` and `pairplot` as these create multiple plots by default. Both are figure-level plots, but instead of `FacetGrid`, they return `JointGrid` and `PairGrid` respectively. \n",
    "\n"
   ]
  },
  {
   "cell_type": "raw",
   "id": "de77f864",
   "metadata": {},
   "source": [
    "sns.jointplot(data=penguins, x=\"flipper_length_mm\", y=\"bill_length_mm\", hue=\"species\")"
   ]
  },
  {
   "cell_type": "markdown",
   "id": "288cfb76",
   "metadata": {},
   "source": [
    "![jointplot example](https://seaborn.pydata.org/_images/function_overview_38_0.png)"
   ]
  },
  {
   "cell_type": "markdown",
   "id": "fc459da3",
   "metadata": {},
   "source": [
    "## Sources\n",
    "\n",
    "[seaborn - Overview of plotting functions](https://seaborn.pydata.org/tutorial/function_overview.html#similar-functions-for-similar-tasks)"
   ]
  }
 ],
 "metadata": {
  "kernelspec": {
   "display_name": "Python 3 (ipykernel)",
   "language": "python",
   "name": "python3"
  },
  "language_info": {
   "codemirror_mode": {
    "name": "ipython",
    "version": 3
   },
   "file_extension": ".py",
   "mimetype": "text/x-python",
   "name": "python",
   "nbconvert_exporter": "python",
   "pygments_lexer": "ipython3",
   "version": "3.9.12"
  }
 },
 "nbformat": 4,
 "nbformat_minor": 5
}
