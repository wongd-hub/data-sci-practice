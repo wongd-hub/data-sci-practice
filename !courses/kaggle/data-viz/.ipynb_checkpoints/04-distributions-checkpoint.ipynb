{
 "cells": [
  {
   "cell_type": "markdown",
   "id": "11d03c44",
   "metadata": {},
   "source": [
    "# [Distributions](https://www.kaggle.com/code/alexisbcook/distributions)\n",
    "## Core Lesson"
   ]
  },
  {
   "cell_type": "code",
   "execution_count": null,
   "id": "3ff7a38a",
   "metadata": {},
   "outputs": [],
   "source": [
    "import pandas as pd\n",
    "pd.plotting.register_matplotlib_converters()\n",
    "import matplotlib.pyplot as plt\n",
    "%matplotlib inline\n",
    "import seaborn as sns\n",
    "import numpy as np\n",
    "import random as rd\n",
    "\n",
    "# Import prepped data\n",
    "lap_times  = pd.read_csv('./intermediate/lap_times_prepped.csv')\n",
    "pit_stops  = pd.read_csv('./intermediate/pit_stops_prepped.csv')\n",
    "qualifying = pd.read_csv('./intermediate/qualifying_prepped.csv')\n",
    "results    = pd.read_csv('./intermediate/results_prepped.csv')"
   ]
  },
  {
   "cell_type": "code",
   "execution_count": null,
   "id": "60ea5a98",
   "metadata": {},
   "outputs": [],
   "source": []
  }
 ],
 "metadata": {
  "kernelspec": {
   "display_name": "Python 3 (ipykernel)",
   "language": "python",
   "name": "python3"
  },
  "language_info": {
   "codemirror_mode": {
    "name": "ipython",
    "version": 3
   },
   "file_extension": ".py",
   "mimetype": "text/x-python",
   "name": "python",
   "nbconvert_exporter": "python",
   "pygments_lexer": "ipython3",
   "version": "3.9.12"
  }
 },
 "nbformat": 4,
 "nbformat_minor": 5
}
