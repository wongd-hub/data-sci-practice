{
 "cells": [
  {
   "cell_type": "markdown",
   "id": "5233a70e",
   "metadata": {},
   "source": [
    "# [Linear Regression With Time Series](https://www.kaggle.com/code/ryanholbrook/linear-regression-with-time-series)\n",
    "\n",
    "The data we'll be working with in this course describes the number of dispenses in Australia of medicines subsidised under the [Pharmaceutical Benefits Scheme](https://www.pbs.gov.au/pbs/home). Scripts used to load and prepare dispense data for analysis can be found [here](https://github.com/wongd-hub/data-sci-practice/tree/main/pbs-time-series)."
   ]
  },
  {
   "cell_type": "code",
   "execution_count": 1,
   "id": "064aacb0",
   "metadata": {},
   "outputs": [],
   "source": [
    "import pandas as pd\n",
    "pd.plotting.register_matplotlib_converters()\n",
    "import matplotlib.pyplot as plt\n",
    "%matplotlib inline\n",
    "import seaborn as sns\n",
    "import numpy as np\n",
    "import random as rd"
   ]
  },
  {
   "cell_type": "markdown",
   "id": "947ab9cf",
   "metadata": {},
   "source": [
    "DoS stands for Date of Supply, and references the fact that dispenses are recorded in this dataset the date that the medicine was actually supplied (as opposed to the date that the claim was lodged)."
   ]
  },
  {
   "cell_type": "code",
   "execution_count": 7,
   "id": "448cd843",
   "metadata": {},
   "outputs": [
    {
     "data": {
      "text/html": [
       "<div>\n",
       "<style scoped>\n",
       "    .dataframe tbody tr th:only-of-type {\n",
       "        vertical-align: middle;\n",
       "    }\n",
       "\n",
       "    .dataframe tbody tr th {\n",
       "        vertical-align: top;\n",
       "    }\n",
       "\n",
       "    .dataframe thead th {\n",
       "        text-align: right;\n",
       "    }\n",
       "</style>\n",
       "<table border=\"1\" class=\"dataframe\">\n",
       "  <thead>\n",
       "    <tr style=\"text-align: right;\">\n",
       "      <th></th>\n",
       "      <th></th>\n",
       "      <th>prescriptions</th>\n",
       "      <th>atc_level_1</th>\n",
       "      <th>atc_level_2</th>\n",
       "      <th>atc_level_3</th>\n",
       "      <th>atc_level_4</th>\n",
       "      <th>atc_level_5</th>\n",
       "    </tr>\n",
       "    <tr>\n",
       "      <th>month</th>\n",
       "      <th>pbs_item_code</th>\n",
       "      <th></th>\n",
       "      <th></th>\n",
       "      <th></th>\n",
       "      <th></th>\n",
       "      <th></th>\n",
       "      <th></th>\n",
       "    </tr>\n",
       "  </thead>\n",
       "  <tbody>\n",
       "    <tr>\n",
       "      <th rowspan=\"5\" valign=\"top\">2017-07-01</th>\n",
       "      <th>10001J</th>\n",
       "      <td>1607</td>\n",
       "      <td>A</td>\n",
       "      <td>A07</td>\n",
       "      <td>A07A</td>\n",
       "      <td>A07AA</td>\n",
       "      <td>A07AA11</td>\n",
       "    </tr>\n",
       "    <tr>\n",
       "      <th>10003L</th>\n",
       "      <td>300</td>\n",
       "      <td>L</td>\n",
       "      <td>L01</td>\n",
       "      <td>L01X</td>\n",
       "      <td>L01XE</td>\n",
       "      <td>L01XE23</td>\n",
       "    </tr>\n",
       "    <tr>\n",
       "      <th>10005N</th>\n",
       "      <td>3333</td>\n",
       "      <td>C</td>\n",
       "      <td>C09</td>\n",
       "      <td>C09D</td>\n",
       "      <td>C09DX</td>\n",
       "      <td>C09DX03</td>\n",
       "    </tr>\n",
       "    <tr>\n",
       "      <th>10007Q</th>\n",
       "      <td>2698</td>\n",
       "      <td>R</td>\n",
       "      <td>R03</td>\n",
       "      <td>R03A</td>\n",
       "      <td>R03AK</td>\n",
       "      <td>R03AK11</td>\n",
       "    </tr>\n",
       "    <tr>\n",
       "      <th>10008R</th>\n",
       "      <td>8625</td>\n",
       "      <td>R</td>\n",
       "      <td>R03</td>\n",
       "      <td>R03A</td>\n",
       "      <td>R03AK</td>\n",
       "      <td>R03AK11</td>\n",
       "    </tr>\n",
       "  </tbody>\n",
       "</table>\n",
       "</div>"
      ],
      "text/plain": [
       "                          prescriptions atc_level_1 atc_level_2 atc_level_3  \\\n",
       "month      pbs_item_code                                                      \n",
       "2017-07-01 10001J                  1607           A         A07        A07A   \n",
       "           10003L                   300           L         L01        L01X   \n",
       "           10005N                  3333           C         C09        C09D   \n",
       "           10007Q                  2698           R         R03        R03A   \n",
       "           10008R                  8625           R         R03        R03A   \n",
       "\n",
       "                         atc_level_4 atc_level_5  \n",
       "month      pbs_item_code                          \n",
       "2017-07-01 10001J              A07AA     A07AA11  \n",
       "           10003L              L01XE     L01XE23  \n",
       "           10005N              C09DX     C09DX03  \n",
       "           10007Q              R03AK     R03AK11  \n",
       "           10008R              R03AK     R03AK11  "
      ]
     },
     "execution_count": 7,
     "metadata": {},
     "output_type": "execute_result"
    }
   ],
   "source": [
    "dos = pd.read_csv(\n",
    "    '../../../pbs-time-series/prepped_data/dos_final.csv', \n",
    "    index_col = ['month', 'pbs_item_code'], \n",
    "    parse_dates = ['month']\n",
    ")\n",
    "dos.head()"
   ]
  },
  {
   "cell_type": "markdown",
   "id": "4d11eb96",
   "metadata": {},
   "source": [
    "We can see that this dataset provides us with the number of prescriptions dispensed for each medicine (medicine, strength, and pack size - as represented by each PBS item code). This data also provides us with several levels of each medicine's [Anatomical Therapeutic Chemical](https://www.who.int/tools/atc-ddd-toolkit/atc-classification) classification, which describes the body system that each drug acts on."
   ]
  },
  {
   "cell_type": "markdown",
   "id": "eed6d26f",
   "metadata": {},
   "source": [
    "## Core Lesson\n",
    "\n"
   ]
  }
 ],
 "metadata": {
  "kernelspec": {
   "display_name": "Python 3 (ipykernel)",
   "language": "python",
   "name": "python3"
  },
  "language_info": {
   "codemirror_mode": {
    "name": "ipython",
    "version": 3
   },
   "file_extension": ".py",
   "mimetype": "text/x-python",
   "name": "python",
   "nbconvert_exporter": "python",
   "pygments_lexer": "ipython3",
   "version": "3.9.12"
  }
 },
 "nbformat": 4,
 "nbformat_minor": 5
}
