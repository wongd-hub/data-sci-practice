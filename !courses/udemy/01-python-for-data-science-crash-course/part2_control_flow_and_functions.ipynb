{
 "cells": [
  {
   "cell_type": "markdown",
   "id": "41b76475-a15b-4830-8c68-32b469541554",
   "metadata": {},
   "source": [
    "# [Python Crash Course for Data Science and Machine Learning](https://www.udemy.com/course/python-crash-course-for-data-science-and-machine-learning)\n",
    "## If Statements\n",
    "\n",
    "Python uses indents to denote blocks.\n",
    "\n",
    "If statement syntax -"
   ]
  },
  {
   "cell_type": "raw",
   "id": "bef6b1f3-17a1-434b-b5f3-607354f843c8",
   "metadata": {},
   "source": [
    "if conditional statement:\n",
    "    Do something\n",
    "    \n",
    "Conditional tests are the same as they are in R (i.e. == for equality, != for not equals)."
   ]
  },
  {
   "cell_type": "code",
   "execution_count": 5,
   "id": "cc1bd64c-60bb-4ec7-bbb7-313a9b4bc0df",
   "metadata": {},
   "outputs": [
    {
     "name": "stdout",
     "output_type": "stream",
     "text": [
      "10 is greater than 5\n"
     ]
    }
   ],
   "source": [
    "# Simple example of if-else\n",
    "a = 10\n",
    "if a > 5:\n",
    "    print(f'{a} is greater than 5')\n",
    "elif a > 4:\n",
    "    print(f'{a} is greater than 4')\n",
    "else:\n",
    "    print(f'{a} is not greater than 4')"
   ]
  },
  {
   "cell_type": "code",
   "execution_count": 2,
   "id": "c73f1d4d-636d-415e-a43b-23ce10ab0e5c",
   "metadata": {},
   "outputs": [
    {
     "name": "stdout",
     "output_type": "stream",
     "text": [
      "Green exists!\n",
      "White isn't in this list.\n"
     ]
    }
   ],
   "source": [
    "# Using in or not in keywords\n",
    "colours = ['Red', 'Green']\n",
    "if 'Green' in colours:\n",
    "    print('Green exists!')\n",
    "    \n",
    "if 'White' not in colours:\n",
    "    print('White isn\\'t in this list.')"
   ]
  },
  {
   "cell_type": "code",
   "execution_count": 3,
   "id": "7f8a750d-5bee-4ad5-a4a2-d0f1c72f094d",
   "metadata": {},
   "outputs": [
    {
     "name": "stdout",
     "output_type": "stream",
     "text": [
      "Hello World\n"
     ]
    }
   ],
   "source": [
    "# Using multiple conditions\n",
    "if (a > 5) and ('Green' in colours):\n",
    "    print('Hello World')"
   ]
  },
  {
   "cell_type": "markdown",
   "id": "6175eee2-8104-4f15-a765-84ddb585ad30",
   "metadata": {},
   "source": [
    "## For-loops\n",
    "\n",
    "No need to set an indexing variable, can use a temporary variable."
   ]
  },
  {
   "cell_type": "code",
   "execution_count": 6,
   "id": "8ec859e3-38fa-4769-906e-ab715aa8da52",
   "metadata": {},
   "outputs": [
    {
     "name": "stdout",
     "output_type": "stream",
     "text": [
      "Red\n",
      "Green\n"
     ]
    }
   ],
   "source": [
    "for colour in colours:\n",
    "    print(colour)"
   ]
  },
  {
   "cell_type": "code",
   "execution_count": 7,
   "id": "3c87d8c1-9005-4944-9e04-233f962a43d7",
   "metadata": {},
   "outputs": [
    {
     "name": "stdout",
     "output_type": "stream",
     "text": [
      "0\n",
      "1\n",
      "2\n",
      "3\n",
      "4\n"
     ]
    }
   ],
   "source": [
    "for i in range(5):\n",
    "    print(i)"
   ]
  },
  {
   "cell_type": "code",
   "execution_count": 8,
   "id": "ce3cfd38-f454-4182-9d6f-a78abc1b5f73",
   "metadata": {},
   "outputs": [
    {
     "name": "stdout",
     "output_type": "stream",
     "text": [
      "1\n",
      "3\n",
      "5\n",
      "7\n",
      "9\n"
     ]
    }
   ],
   "source": [
    "# Changing step size of range\n",
    "for i in range(1, 10, 2):\n",
    "    print(i)"
   ]
  },
  {
   "cell_type": "code",
   "execution_count": 10,
   "id": "0ecfa9d2-4910-468c-9e22-43bc938d8046",
   "metadata": {},
   "outputs": [
    {
     "name": "stdout",
     "output_type": "stream",
     "text": [
      "10 4\n",
      "10 5\n",
      "\n",
      "\n",
      "10 4\n",
      "10 5\n",
      "\n",
      "\n"
     ]
    }
   ],
   "source": [
    "# Nested loops\n",
    "for i in range(2):\n",
    "    for b in range(4, 6):\n",
    "        print(a, b)\n",
    "    print(\"\\n\")"
   ]
  },
  {
   "cell_type": "markdown",
   "id": "376dc6cd-c8ed-4ca8-9b39-50bb39c2bbac",
   "metadata": {},
   "source": [
    "## Functions"
   ]
  },
  {
   "cell_type": "code",
   "execution_count": 11,
   "id": "764c4aa1-2769-4364-b177-0b178d40e667",
   "metadata": {},
   "outputs": [
    {
     "data": {
      "text/plain": [
       "\u001b[0;31mSignature:\u001b[0m \u001b[0mdisplay_name\u001b[0m\u001b[0;34m(\u001b[0m\u001b[0mperson_ID\u001b[0m\u001b[0;34m)\u001b[0m\u001b[0;34m\u001b[0m\u001b[0;34m\u001b[0m\u001b[0m\n",
       "\u001b[0;31mDocstring:\u001b[0m This function presents a name based on their ID\n",
       "\u001b[0;31mFile:\u001b[0m      /var/folders/0p/fnlsdkq159s9phmzxxmms5pc0000gn/T/ipykernel_58970/1398272537.py\n",
       "\u001b[0;31mType:\u001b[0m      function\n"
      ]
     },
     "metadata": {},
     "output_type": "display_data"
    }
   ],
   "source": [
    "# def keyword sets up function definition, followed by function name and list of arguments\n",
    "def display_name (person_ID):\n",
    "    # Doc-string enclosed in triple quotes\n",
    "    \"\"\"This function presents a name based on their ID\"\"\"\n",
    "    \n",
    "    if person_ID == '24601':\n",
    "        print('Hello, Jean')\n",
    "        \n",
    "display_name?"
   ]
  },
  {
   "cell_type": "code",
   "execution_count": 13,
   "id": "f60fd127-06e7-4a5e-8027-562d0ef3d1fe",
   "metadata": {},
   "outputs": [
    {
     "data": {
      "text/plain": [
       "24"
      ]
     },
     "execution_count": 13,
     "metadata": {},
     "output_type": "execute_result"
    }
   ],
   "source": [
    "# Variables initiated outside of functions have global scope, variables initiated inside functions have local scope\n",
    "global_var = 2\n",
    "\n",
    "def my_function (x = 1): # Setting a default argument\n",
    "    local_var = 3\n",
    "    return (local_var * global_var * x) # Return statement returns a value from the function\n",
    "\n",
    "my_function(4)"
   ]
  }
 ],
 "metadata": {
  "kernelspec": {
   "display_name": "Python 3 (ipykernel)",
   "language": "python",
   "name": "python3"
  },
  "language_info": {
   "codemirror_mode": {
    "name": "ipython",
    "version": 3
   },
   "file_extension": ".py",
   "mimetype": "text/x-python",
   "name": "python",
   "nbconvert_exporter": "python",
   "pygments_lexer": "ipython3",
   "version": "3.9.12"
  }
 },
 "nbformat": 4,
 "nbformat_minor": 5
}
