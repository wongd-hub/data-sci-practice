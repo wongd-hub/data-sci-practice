{
 "cells": [
  {
   "cell_type": "markdown",
   "id": "7b0f0e61-5ade-4df7-864d-db17970aeaa5",
   "metadata": {},
   "source": [
    "# [Python Crash Course for Data Science and Machine Learning](https://www.udemy.com/course/python-crash-course-for-data-science-and-machine-learning)\n",
    "## Classes, Objects, Attributes, and Methods\n",
    "\n",
    "Python is object-oriented, every variable we create has an object 'type'. Each object has associated functions that work only on that object (methods).\n",
    "\n",
    "A class is a blueprint to create a particular type of object. These include attributes to store information, and methods to work on an object of that class."
   ]
  },
  {
   "cell_type": "code",
   "execution_count": 1,
   "id": "753b2018-f7ec-4b54-8589-1581293bf54b",
   "metadata": {},
   "outputs": [
    {
     "name": "stdout",
     "output_type": "stream",
     "text": [
      "White\n"
     ]
    }
   ],
   "source": [
    "# To define a new class (best practice to have classes start with a capital letter):\n",
    "class Car:\n",
    "    # Init method/constructor. Called every time the class is used to create a new object.\n",
    "    def __init__(self, colour, model):\n",
    "        self.colour = colour\n",
    "        self.model = model\n",
    "        self.age = 1\n",
    "        \n",
    "    # Defining methods for the class\n",
    "    def change_colour(self, new_colour):\n",
    "        self.colour = new_colour\n",
    "        \n",
    "    def increment_age(self):\n",
    "        self.age += 1\n",
    "        \n",
    "car1 = Car('White', 'Mazda')\n",
    "car2 = Car('Black', 'Volvo')\n",
    "\n",
    "print(car1.colour)"
   ]
  },
  {
   "cell_type": "code",
   "execution_count": 2,
   "id": "16598d21-3e89-4877-b5db-7abe54c9b5e5",
   "metadata": {},
   "outputs": [
    {
     "name": "stdout",
     "output_type": "stream",
     "text": [
      "2\n"
     ]
    }
   ],
   "source": [
    "car2.increment_age()\n",
    "print(car2.age)"
   ]
  },
  {
   "cell_type": "code",
   "execution_count": 3,
   "id": "fc0e69f2-2921-40c7-8273-444192b1a65d",
   "metadata": {},
   "outputs": [
    {
     "name": "stdout",
     "output_type": "stream",
     "text": [
      "Aquamarine\n"
     ]
    }
   ],
   "source": [
    "car1.change_colour('Aquamarine')\n",
    "print(car1.colour)"
   ]
  },
  {
   "cell_type": "markdown",
   "id": "6f728354-ba45-4532-ba05-07fc59c11f38",
   "metadata": {},
   "source": [
    "## Modules\n",
    "\n",
    "A module is a group of functions, classes, and variables. A group of modules are packed together into a library.\n",
    "\n",
    "Anaconda provides several modules upon installation."
   ]
  },
  {
   "cell_type": "code",
   "execution_count": 4,
   "id": "40e31517-6133-4198-b8f7-5c2278469999",
   "metadata": {},
   "outputs": [
    {
     "name": "stdout",
     "output_type": "stream",
     "text": [
      "27\n",
      "40\n",
      "95\n",
      "47\n",
      "54\n"
     ]
    }
   ],
   "source": [
    "# Generic syntax\n",
    "#  import module_name\n",
    "#  module_name.function_name()\n",
    "import random as rd\n",
    "\n",
    "for a in range(5):\n",
    "    print(rd.randint(0, 100))"
   ]
  },
  {
   "cell_type": "code",
   "execution_count": 5,
   "id": "a2060798-3a07-4660-b977-243c02cd17de",
   "metadata": {},
   "outputs": [
    {
     "name": "stdout",
     "output_type": "stream",
     "text": [
      "41\n"
     ]
    }
   ],
   "source": [
    "# To stop needing to pre-pend function names with the module alias, you can import functions into the namespace\n",
    "from random import randint\n",
    "print(randint(0, 100))\n",
    "\n",
    "# Or import all functions\n",
    "from random import *"
   ]
  },
  {
   "cell_type": "code",
   "execution_count": 6,
   "id": "6f57887a-5fe3-45da-bd53-6d25336c5b19",
   "metadata": {},
   "outputs": [],
   "source": [
    "# Display all currently available modules\n",
    "# help('modules')"
   ]
  },
  {
   "cell_type": "code",
   "execution_count": 7,
   "id": "79e93653-cd24-46e3-9d9e-d32102f66836",
   "metadata": {},
   "outputs": [],
   "source": [
    "# Some frequently used modules\n",
    "import os\n",
    "import sys\n",
    "import math\n",
    "import statistics as st\n",
    "import random as rd"
   ]
  },
  {
   "cell_type": "code",
   "execution_count": 8,
   "id": "6509766a-3e21-4c1d-8319-9fea4c10f98f",
   "metadata": {},
   "outputs": [],
   "source": [
    "# List files in a specific directory\n",
    "# os.listdir()"
   ]
  },
  {
   "cell_type": "code",
   "execution_count": 9,
   "id": "6474a88c-3d0d-4b2c-96eb-e7168fbd8954",
   "metadata": {},
   "outputs": [
    {
     "data": {
      "text/plain": [
       "'3.9.12 (main, Apr  5 2022, 01:53:17) \\n[Clang 12.0.0 ]'"
      ]
     },
     "execution_count": 9,
     "metadata": {},
     "output_type": "execute_result"
    }
   ],
   "source": [
    "sys.version"
   ]
  },
  {
   "cell_type": "code",
   "execution_count": 10,
   "id": "86aeb71b-90aa-40a5-aa34-cca8f8204f19",
   "metadata": {},
   "outputs": [
    {
     "data": {
      "text/plain": [
       "16.0"
      ]
     },
     "execution_count": 10,
     "metadata": {},
     "output_type": "execute_result"
    }
   ],
   "source": [
    "math.pi\n",
    "math.sin(30)\n",
    "math.sqrt(256)"
   ]
  },
  {
   "cell_type": "code",
   "execution_count": 11,
   "id": "6bc6a686-f963-4a33-9714-119d1d55773e",
   "metadata": {},
   "outputs": [
    {
     "data": {
      "text/plain": [
       "8.16496580927726"
      ]
     },
     "execution_count": 11,
     "metadata": {},
     "output_type": "execute_result"
    }
   ],
   "source": [
    "list = [10, 10, 15, 20, 25, 30]\n",
    "st.mean(list)\n",
    "st.stdev(list)"
   ]
  },
  {
   "cell_type": "markdown",
   "id": "aeaf0f88-ad62-42c0-ba36-c196abd8d99c",
   "metadata": {},
   "source": [
    "## Libraries for Data Science\n",
    "\n",
    "### NumPy\n",
    "- High performance mathematical computing.\n",
    "- Provides methods and classes to work with large, multi-dimensional arrays.\n",
    "- Compared to built-in lists, NumPy is faster when handling large amounts of data.\n",
    "\n",
    "### pandas\n",
    "- For data analysis and exploration.\n",
    "- Provides methods for preparing and exploring data.\n",
    "- Use it to load data from files.\n",
    "\n",
    "### matplotlib\n",
    "- Most popular data visualisation library\n",
    "\n",
    "### scikit-learn\n",
    "- After loading, cleaning, and visualising our data, scikit-learn access to machine learning algorithms.\n",
    "- Other libraries in this vein are TensorFlow, Keras, and PyTorch."
   ]
  }
 ],
 "metadata": {
  "kernelspec": {
   "display_name": "Python 3 (ipykernel)",
   "language": "python",
   "name": "python3"
  },
  "language_info": {
   "codemirror_mode": {
    "name": "ipython",
    "version": 3
   },
   "file_extension": ".py",
   "mimetype": "text/x-python",
   "name": "python",
   "nbconvert_exporter": "python",
   "pygments_lexer": "ipython3",
   "version": "3.9.12"
  }
 },
 "nbformat": 4,
 "nbformat_minor": 5
}
