{
 "cells": [
  {
   "cell_type": "markdown",
   "metadata": {},
   "source": [
    "### <b> Course: Machine Learning for Absolute Beginners - Level 2\n",
    "#### By: Idan Gabrieli\n",
    "#### Exercise: #1 - Python Fundamentals\n",
    "*****************************"
   ]
  },
  {
   "cell_type": "markdown",
   "metadata": {},
   "source": [
    "### Step 1 - Variables and Data Types"
   ]
  },
  {
   "cell_type": "markdown",
   "metadata": {},
   "source": [
    "Create the following variables:<br> \n",
    "num1=100<br>\n",
    "num2=300.0<br>\n",
    "str1=\"I would to learn data science\"<br>\n",
    "list1=['A', 'B', 'C']<br>\n",
    "bol1=True"
   ]
  },
  {
   "cell_type": "code",
   "execution_count": 1,
   "metadata": {},
   "outputs": [],
   "source": [
    "num1 = 100\n",
    "num2 = 300.0\n",
    "str1 = 'I would like to learn data science'\n",
    "list1 = ['A', 'B', 'C']\n",
    "bol1 = True"
   ]
  },
  {
   "cell_type": "markdown",
   "metadata": {},
   "source": [
    "Check the type of each variable that you created using the type() function. <br>"
   ]
  },
  {
   "cell_type": "code",
   "execution_count": 3,
   "metadata": {},
   "outputs": [
    {
     "data": {
      "text/plain": [
       "bool"
      ]
     },
     "execution_count": 3,
     "metadata": {},
     "output_type": "execute_result"
    }
   ],
   "source": [
    "type(num1)\n",
    "type(num2)\n",
    "type(str1)\n",
    "type(list1)\n",
    "type(bol1)"
   ]
  },
  {
   "cell_type": "markdown",
   "metadata": {},
   "source": [
    "Print the value of each variable using the print() function."
   ]
  },
  {
   "cell_type": "code",
   "execution_count": 4,
   "metadata": {},
   "outputs": [
    {
     "name": "stdout",
     "output_type": "stream",
     "text": [
      "100\n",
      "300.0\n",
      "I would like to learn data science\n",
      "['A', 'B', 'C']\n",
      "True\n"
     ]
    }
   ],
   "source": [
    "print(num1)\n",
    "print(num2)\n",
    "print(str1)\n",
    "print(list1)\n",
    "print(bol1)"
   ]
  },
  {
   "cell_type": "markdown",
   "metadata": {},
   "source": [
    "Using one line assign the same value \"100\" to the following variables: num1, num2, num3."
   ]
  },
  {
   "cell_type": "code",
   "execution_count": null,
   "metadata": {},
   "outputs": [],
   "source": [
    "num1 = num2 = num3 = 100"
   ]
  },
  {
   "cell_type": "markdown",
   "metadata": {},
   "source": [
    "Using one line assign the following values to the following variables: num1=10, num2=20, num3=30."
   ]
  },
  {
   "cell_type": "code",
   "execution_count": null,
   "metadata": {},
   "outputs": [],
   "source": [
    "num1, num2, num3 = 10, 20, 30"
   ]
  },
  {
   "cell_type": "markdown",
   "metadata": {},
   "source": [
    "Check the size of the str1 string variable. "
   ]
  },
  {
   "cell_type": "code",
   "execution_count": null,
   "metadata": {},
   "outputs": [],
   "source": [
    "len(str1)"
   ]
  },
  {
   "cell_type": "markdown",
   "metadata": {},
   "source": [
    "Print in upper case and also in lower case the str1 variable (tip - use the tab completion to see the list of methods)."
   ]
  },
  {
   "cell_type": "code",
   "execution_count": 5,
   "metadata": {},
   "outputs": [
    {
     "name": "stdout",
     "output_type": "stream",
     "text": [
      "I WOULD LIKE TO LEARN DATA SCIENCE\n",
      "i would like to learn data science\n"
     ]
    }
   ],
   "source": [
    "print(str1.upper())\n",
    "print(str1.lower())"
   ]
  },
  {
   "cell_type": "markdown",
   "metadata": {},
   "source": [
    "Print the result (True or False) of checking if the text \"data\" exist in str1 using the in operator. "
   ]
  },
  {
   "cell_type": "code",
   "execution_count": 6,
   "metadata": {},
   "outputs": [
    {
     "data": {
      "text/plain": [
       "True"
      ]
     },
     "execution_count": 6,
     "metadata": {},
     "output_type": "execute_result"
    }
   ],
   "source": [
    "'data' in str1"
   ]
  },
  {
   "cell_type": "markdown",
   "metadata": {},
   "source": [
    "Split str1 into substrings using the split method and store the result in a list variable called list1. Print list1."
   ]
  },
  {
   "cell_type": "code",
   "execution_count": 7,
   "metadata": {},
   "outputs": [
    {
     "name": "stdout",
     "output_type": "stream",
     "text": [
      "['I', 'would', 'like', 'to', 'learn', 'data', 'science']\n"
     ]
    }
   ],
   "source": [
    "list1 = str1.split(' ')\n",
    "print(list1)"
   ]
  },
  {
   "cell_type": "markdown",
   "metadata": {},
   "source": [
    "Define the following variables: Name='David', Phone='12345678'\n",
    "and then print the following message using the the f-string formatting: \"My name is David and my phone number is 12345678\""
   ]
  },
  {
   "cell_type": "code",
   "execution_count": 8,
   "metadata": {},
   "outputs": [
    {
     "name": "stdout",
     "output_type": "stream",
     "text": [
      "My name is David and my phone number is 12345678\n"
     ]
    }
   ],
   "source": [
    "Name = 'David'\n",
    "Phone = '12345678'\n",
    "print(f'My name is {Name} and my phone number is {Phone}')"
   ]
  },
  {
   "cell_type": "markdown",
   "metadata": {},
   "source": [
    "### Step 2 - Lists"
   ]
  },
  {
   "cell_type": "markdown",
   "metadata": {},
   "source": [
    "Create the following list: colors = ['Red', 'Yellow', 'Green', 'Black', 'White'] and print the new list."
   ]
  },
  {
   "cell_type": "code",
   "execution_count": 10,
   "metadata": {},
   "outputs": [
    {
     "name": "stdout",
     "output_type": "stream",
     "text": [
      "['Red', 'Yellow', 'Green', 'Black', 'White']\n"
     ]
    }
   ],
   "source": [
    "colors = ['Red', 'Yellow', 'Green', 'Black', 'White']\n",
    "print(colors)"
   ]
  },
  {
   "cell_type": "markdown",
   "metadata": {},
   "source": [
    "Print the second color in the colors list."
   ]
  },
  {
   "cell_type": "code",
   "execution_count": 11,
   "metadata": {},
   "outputs": [
    {
     "data": {
      "text/plain": [
       "'Yellow'"
      ]
     },
     "execution_count": 11,
     "metadata": {},
     "output_type": "execute_result"
    }
   ],
   "source": [
    "colors[1]"
   ]
  },
  {
   "cell_type": "markdown",
   "metadata": {},
   "source": [
    "Sort and print the colors list in alphabetical order using the sort method."
   ]
  },
  {
   "cell_type": "code",
   "execution_count": 12,
   "metadata": {},
   "outputs": [
    {
     "name": "stdout",
     "output_type": "stream",
     "text": [
      "['Black', 'Green', 'Red', 'White', 'Yellow']\n"
     ]
    }
   ],
   "source": [
    "colors.sort()\n",
    "print(colors)"
   ]
  },
  {
   "cell_type": "markdown",
   "metadata": {},
   "source": [
    "Add the the \"Blue\" color to the colors list and print the updated list."
   ]
  },
  {
   "cell_type": "code",
   "execution_count": 13,
   "metadata": {},
   "outputs": [
    {
     "name": "stdout",
     "output_type": "stream",
     "text": [
      "['Black', 'Green', 'Red', 'White', 'Yellow', 'Blue']\n"
     ]
    }
   ],
   "source": [
    "colors.append('Blue')\n",
    "print(colors)"
   ]
  },
  {
   "cell_type": "markdown",
   "metadata": {},
   "source": [
    "Remove the color 'Green' from the list by using the value and print the updated list."
   ]
  },
  {
   "cell_type": "code",
   "execution_count": 14,
   "metadata": {},
   "outputs": [
    {
     "name": "stdout",
     "output_type": "stream",
     "text": [
      "['Black', 'Red', 'White', 'Yellow', 'Blue']\n"
     ]
    }
   ],
   "source": [
    "colors.remove('Green')\n",
    "print(colors)"
   ]
  },
  {
   "cell_type": "markdown",
   "metadata": {},
   "source": [
    "Check the size of a list."
   ]
  },
  {
   "cell_type": "code",
   "execution_count": 15,
   "metadata": {},
   "outputs": [
    {
     "data": {
      "text/plain": [
       "5"
      ]
     },
     "execution_count": 15,
     "metadata": {},
     "output_type": "execute_result"
    }
   ],
   "source": [
    "len(colors)"
   ]
  },
  {
   "cell_type": "markdown",
   "metadata": {},
   "source": [
    "Create the following two lists: list1 = ['A','B','C'], list2 = ['D','E','F','G'] and then concatenate the two lists into list3 by using the + operator. Print list3."
   ]
  },
  {
   "cell_type": "code",
   "execution_count": 17,
   "metadata": {},
   "outputs": [
    {
     "name": "stdout",
     "output_type": "stream",
     "text": [
      "['A', 'B', 'C', 'D', 'E', 'F', 'G']\n"
     ]
    }
   ],
   "source": [
    "list1 = ['A','B','C']\n",
    "list2 = ['D','E','F','G']\n",
    "list3 = list1 + list2\n",
    "print(list3)"
   ]
  },
  {
   "cell_type": "markdown",
   "metadata": {},
   "source": [
    "Print items 'B', 'C' and 'D' from list3 using the slicing notation."
   ]
  },
  {
   "cell_type": "code",
   "execution_count": 18,
   "metadata": {},
   "outputs": [
    {
     "data": {
      "text/plain": [
       "['B', 'C', 'D']"
      ]
     },
     "execution_count": 18,
     "metadata": {},
     "output_type": "execute_result"
    }
   ],
   "source": [
    "list3[1:4]"
   ]
  },
  {
   "cell_type": "markdown",
   "metadata": {},
   "source": [
    "Print items 'C' until the end of list3 using the slicing notation."
   ]
  },
  {
   "cell_type": "code",
   "execution_count": 19,
   "metadata": {},
   "outputs": [
    {
     "data": {
      "text/plain": [
       "['C', 'D', 'E', 'F', 'G']"
      ]
     },
     "execution_count": 19,
     "metadata": {},
     "output_type": "execute_result"
    }
   ],
   "source": [
    "list3[2:]"
   ]
  },
  {
   "cell_type": "markdown",
   "metadata": {},
   "source": [
    "Copy list3 into a list4 using the slicing notation."
   ]
  },
  {
   "cell_type": "code",
   "execution_count": 20,
   "metadata": {},
   "outputs": [],
   "source": [
    "list4 = list3[:]"
   ]
  },
  {
   "cell_type": "markdown",
   "metadata": {},
   "source": [
    "Create the following tuple variable: tuple1=(1,2,3,4,5) and print it."
   ]
  },
  {
   "cell_type": "code",
   "execution_count": 22,
   "metadata": {},
   "outputs": [
    {
     "name": "stdout",
     "output_type": "stream",
     "text": [
      "(1, 2, 3, 4, 5)\n"
     ]
    }
   ],
   "source": [
    "tuple1 = (1, 2, 3, 4, 5)\n",
    "print(tuple1)"
   ]
  },
  {
   "cell_type": "markdown",
   "metadata": {},
   "source": [
    "Try to change the first item in the tuple list to the number 7."
   ]
  },
  {
   "cell_type": "code",
   "execution_count": 23,
   "metadata": {},
   "outputs": [
    {
     "ename": "TypeError",
     "evalue": "'tuple' object does not support item assignment",
     "output_type": "error",
     "traceback": [
      "\u001b[0;31m---------------------------------------------------------------------------\u001b[0m",
      "\u001b[0;31mTypeError\u001b[0m                                 Traceback (most recent call last)",
      "Input \u001b[0;32mIn [23]\u001b[0m, in \u001b[0;36m<cell line: 1>\u001b[0;34m()\u001b[0m\n\u001b[0;32m----> 1\u001b[0m tuple1[\u001b[38;5;241m0\u001b[39m] \u001b[38;5;241m=\u001b[39m \u001b[38;5;241m7\u001b[39m\n",
      "\u001b[0;31mTypeError\u001b[0m: 'tuple' object does not support item assignment"
     ]
    }
   ],
   "source": [
    "tuple1[0] = 7"
   ]
  },
  {
   "cell_type": "markdown",
   "metadata": {},
   "source": [
    "### Step 3 - IF and For-Loop Statements"
   ]
  },
  {
   "cell_type": "markdown",
   "metadata": {},
   "source": [
    "Create the following list: colors = ['Red', 'Yellow', 'Green', 'Black', 'White'] and print the new list."
   ]
  },
  {
   "cell_type": "code",
   "execution_count": 24,
   "metadata": {},
   "outputs": [
    {
     "name": "stdout",
     "output_type": "stream",
     "text": [
      "['Red', 'Yellow', 'Green', 'Black', 'White']\n"
     ]
    }
   ],
   "source": [
    "colors = ['Red', 'Yellow', 'Green', 'Black', 'White']\n",
    "print(colors)"
   ]
  },
  {
   "cell_type": "markdown",
   "metadata": {},
   "source": [
    "Print \"Yes\" if the \"Black\" value inside the colors list. "
   ]
  },
  {
   "cell_type": "code",
   "execution_count": 25,
   "metadata": {},
   "outputs": [
    {
     "name": "stdout",
     "output_type": "stream",
     "text": [
      "Yes\n"
     ]
    }
   ],
   "source": [
    "if 'Black' in colors:\n",
    "    print('Yes')"
   ]
  },
  {
   "cell_type": "markdown",
   "metadata": {},
   "source": [
    "Print \"Yes\" if the \"Black\" value inside the colors list and the \"Pink\" value is not inside the colors list, otherwise print \"No\". "
   ]
  },
  {
   "cell_type": "code",
   "execution_count": 26,
   "metadata": {},
   "outputs": [
    {
     "name": "stdout",
     "output_type": "stream",
     "text": [
      "Yes\n"
     ]
    }
   ],
   "source": [
    "if ('Black' in colors) and ('Pink' not in colors):\n",
    "    print('Yes')\n",
    "else:\n",
    "    print('No')"
   ]
  },
  {
   "cell_type": "markdown",
   "metadata": {},
   "source": [
    "Create the following variable: num1=50. Print 'More than 100' if the num1>=100. Print 'More than 40' if num1>=40."
   ]
  },
  {
   "cell_type": "code",
   "execution_count": 27,
   "metadata": {},
   "outputs": [
    {
     "name": "stdout",
     "output_type": "stream",
     "text": [
      "More than 40\n"
     ]
    }
   ],
   "source": [
    "num1 = 50\n",
    "if num1 >= 100:\n",
    "    print('More than 100')\n",
    "elif num1 >= 40:\n",
    "    print('More than 40')"
   ]
  },
  {
   "cell_type": "markdown",
   "metadata": {},
   "source": [
    "Scan the colors list and per each item in the list print the value and the index location."
   ]
  },
  {
   "cell_type": "code",
   "execution_count": 29,
   "metadata": {},
   "outputs": [
    {
     "name": "stdout",
     "output_type": "stream",
     "text": [
      "Value: Red, Index: 0\n",
      "Value: Yellow, Index: 1\n",
      "Value: Green, Index: 2\n",
      "Value: Black, Index: 3\n",
      "Value: White, Index: 4\n"
     ]
    }
   ],
   "source": [
    "for color in colors:\n",
    "    print(f'Value: {color}, Index: {colors.index(color)}')"
   ]
  },
  {
   "cell_type": "markdown",
   "metadata": {},
   "source": [
    "Print the numbers 1 to 30 using the range() function."
   ]
  },
  {
   "cell_type": "code",
   "execution_count": 36,
   "metadata": {},
   "outputs": [
    {
     "name": "stdout",
     "output_type": "stream",
     "text": [
      "1\n",
      "2\n",
      "3\n",
      "4\n",
      "5\n",
      "6\n",
      "7\n",
      "8\n",
      "9\n",
      "10\n",
      "11\n",
      "12\n",
      "13\n",
      "14\n",
      "15\n",
      "16\n",
      "17\n",
      "18\n",
      "19\n",
      "20\n",
      "21\n",
      "22\n",
      "23\n",
      "24\n",
      "25\n",
      "26\n",
      "27\n",
      "28\n",
      "29\n",
      "30\n"
     ]
    }
   ],
   "source": [
    "for i in range(1, 31):\n",
    "    print(i)"
   ]
  },
  {
   "cell_type": "markdown",
   "metadata": {},
   "source": [
    "Print the calculation of multiplying the numbers 10,15,20 with the numbers 1,2,3,4,5,6,7,8,9,10 (tip - use nested loops and the range function)."
   ]
  },
  {
   "cell_type": "code",
   "execution_count": 39,
   "metadata": {},
   "outputs": [
    {
     "name": "stdout",
     "output_type": "stream",
     "text": [
      "10 * 1: 10\n",
      "10 * 2: 20\n",
      "10 * 3: 30\n",
      "10 * 4: 40\n",
      "10 * 5: 50\n",
      "10 * 6: 60\n",
      "10 * 7: 70\n",
      "10 * 8: 80\n",
      "10 * 9: 90\n",
      "10 * 10: 100\n",
      "15 * 1: 15\n",
      "15 * 2: 30\n",
      "15 * 3: 45\n",
      "15 * 4: 60\n",
      "15 * 5: 75\n",
      "15 * 6: 90\n",
      "15 * 7: 105\n",
      "15 * 8: 120\n",
      "15 * 9: 135\n",
      "15 * 10: 150\n",
      "20 * 1: 20\n",
      "20 * 2: 40\n",
      "20 * 3: 60\n",
      "20 * 4: 80\n",
      "20 * 5: 100\n",
      "20 * 6: 120\n",
      "20 * 7: 140\n",
      "20 * 8: 160\n",
      "20 * 9: 180\n",
      "20 * 10: 200\n"
     ]
    }
   ],
   "source": [
    "for i in [10, 15, 20]:\n",
    "    for j in range(1, 11):\n",
    "        print(f'{i} * {j}: {i * j}')"
   ]
  },
  {
   "cell_type": "markdown",
   "metadata": {},
   "source": [
    "### Step 4 - Functions"
   ]
  },
  {
   "cell_type": "markdown",
   "metadata": {},
   "source": [
    "Define a function called check_color that is getting as input a list of colors and also a color value. If the color value exist in the list it will return 'Yes', otherwise it will return 'No'."
   ]
  },
  {
   "cell_type": "code",
   "execution_count": 43,
   "metadata": {},
   "outputs": [],
   "source": [
    "def check_color(color_list, color):\n",
    "    \"\"\"Checks if color exists in color_list\"\"\"\n",
    "    if color in color_list:\n",
    "        print('Yes')\n",
    "    else:\n",
    "        print('No')"
   ]
  },
  {
   "cell_type": "markdown",
   "metadata": {},
   "source": [
    "Create the following list: colors = ['Red', 'Yellow', 'Green', 'Black', 'White'] and then call the function check_color to check if the 'Green' color in that list."
   ]
  },
  {
   "cell_type": "code",
   "execution_count": 41,
   "metadata": {},
   "outputs": [
    {
     "name": "stdout",
     "output_type": "stream",
     "text": [
      "Yes\n"
     ]
    }
   ],
   "source": [
    "colors = ['Red', 'Yellow', 'Green', 'Black', 'White']\n",
    "check_color(colors, 'Green')"
   ]
  },
  {
   "cell_type": "markdown",
   "metadata": {},
   "source": [
    "Call the function check_color to check if the 'Pink' color in that list but this time while passing a copy of that list (tip - use the slice notation)."
   ]
  },
  {
   "cell_type": "code",
   "execution_count": 42,
   "metadata": {},
   "outputs": [
    {
     "name": "stdout",
     "output_type": "stream",
     "text": [
      "No\n"
     ]
    }
   ],
   "source": [
    "check_color(colors[:], 'Pink')"
   ]
  },
  {
   "cell_type": "markdown",
   "metadata": {},
   "source": [
    "Add a docstring comment to the check_color function definion and then ask Python to display information about the function (tip - use the ? mark)."
   ]
  },
  {
   "cell_type": "code",
   "execution_count": 44,
   "metadata": {},
   "outputs": [
    {
     "data": {
      "text/plain": [
       "\u001b[0;31mSignature:\u001b[0m \u001b[0mcheck_color\u001b[0m\u001b[0;34m(\u001b[0m\u001b[0mcolor_list\u001b[0m\u001b[0;34m,\u001b[0m \u001b[0mcolor\u001b[0m\u001b[0;34m)\u001b[0m\u001b[0;34m\u001b[0m\u001b[0;34m\u001b[0m\u001b[0m\n",
       "\u001b[0;31mDocstring:\u001b[0m Checks if color exists in color_list\n",
       "\u001b[0;31mFile:\u001b[0m      /var/folders/0p/fnlsdkq159s9phmzxxmms5pc0000gn/T/ipykernel_63777/2756644523.py\n",
       "\u001b[0;31mType:\u001b[0m      function\n"
      ]
     },
     "metadata": {},
     "output_type": "display_data"
    }
   ],
   "source": [
    "check_color?"
   ]
  },
  {
   "cell_type": "markdown",
   "metadata": {},
   "source": [
    "### Step 5 - Dictionaries"
   ]
  },
  {
   "cell_type": "markdown",
   "metadata": {},
   "source": [
    "Create the following dictionaries friend1, friend2, friend3 with the following info:<br>friend1 with 'Name':'David', 'Age':34, 'Phone':556677.<br>friend2 with 'Name':'Marta', 'Age':29, 'Phone':223344.<br>friend3 with 'Name':'Mark', 'Age':45, 'Phone':333444."
   ]
  },
  {
   "cell_type": "code",
   "execution_count": 47,
   "metadata": {},
   "outputs": [],
   "source": [
    "friend1 = {'Name': 'David', 'Age': 34, 'Phone': 556677}\n",
    "friend2 = {'Name': 'Marta', 'Age': 29, 'Phone': 223344}\n",
    "friend3 = {'Name': 'Mark', 'Age': 45, 'Phone': 333444}"
   ]
  },
  {
   "cell_type": "markdown",
   "metadata": {},
   "source": [
    "Print the 'Name' and 'Age' value for friend1. "
   ]
  },
  {
   "cell_type": "code",
   "execution_count": 53,
   "metadata": {},
   "outputs": [
    {
     "name": "stdout",
     "output_type": "stream",
     "text": [
      "David\n",
      "34\n"
     ]
    }
   ],
   "source": [
    "print(friend1['Name'])\n",
    "print(friend1['Age'])"
   ]
  },
  {
   "cell_type": "markdown",
   "metadata": {},
   "source": [
    "Print the complete friend2 dictionary."
   ]
  },
  {
   "cell_type": "code",
   "execution_count": 54,
   "metadata": {},
   "outputs": [
    {
     "name": "stdout",
     "output_type": "stream",
     "text": [
      "{'Name': 'Marta', 'Age': 29, 'Phone': 223344}\n"
     ]
    }
   ],
   "source": [
    "print(friend2)"
   ]
  },
  {
   "cell_type": "markdown",
   "metadata": {},
   "source": [
    "Add the following information to friend1, friend2, friend3: David 'Birthday' is '3.6', Marth 'Birthday' is '22.4', Mark 'Birthday' is '20.1'."
   ]
  },
  {
   "cell_type": "code",
   "execution_count": 55,
   "metadata": {},
   "outputs": [],
   "source": [
    "friend1['Birthday'] = '3/6'\n",
    "friend2['Birthday'] = '22/4'\n",
    "friend3['Birthday'] = '20/1'"
   ]
  },
  {
   "cell_type": "markdown",
   "metadata": {},
   "source": [
    "Print friend1, friend2, friend3."
   ]
  },
  {
   "cell_type": "code",
   "execution_count": 56,
   "metadata": {},
   "outputs": [
    {
     "name": "stdout",
     "output_type": "stream",
     "text": [
      "{'Name': 'David', 'Age': 34, 'Phone': 556677, 'Birthday': '3/6'} {'Name': 'Marta', 'Age': 29, 'Phone': 223344, 'Birthday': '22/4'} {'Name': 'Mark', 'Age': 45, 'Phone': 333444, 'Birthday': '20/1'}\n"
     ]
    }
   ],
   "source": [
    "print(friend1, friend2, friend3)"
   ]
  },
  {
   "cell_type": "markdown",
   "metadata": {},
   "source": [
    "Update friend2 phone number to: '112233'."
   ]
  },
  {
   "cell_type": "code",
   "execution_count": 57,
   "metadata": {},
   "outputs": [],
   "source": [
    "friend2['Phone'] = '112233'"
   ]
  },
  {
   "cell_type": "markdown",
   "metadata": {},
   "source": [
    "Remove 'Phone' from friend1 and print the updated dictionaries. "
   ]
  },
  {
   "cell_type": "code",
   "execution_count": 58,
   "metadata": {},
   "outputs": [
    {
     "name": "stdout",
     "output_type": "stream",
     "text": [
      "{'Name': 'David', 'Age': 34, 'Birthday': '3/6'}\n"
     ]
    }
   ],
   "source": [
    "del friend1['Phone']\n",
    "print(friend1)"
   ]
  },
  {
   "cell_type": "markdown",
   "metadata": {},
   "source": [
    "Create an empty list variable called myFriends."
   ]
  },
  {
   "cell_type": "code",
   "execution_count": 60,
   "metadata": {},
   "outputs": [],
   "source": [
    "myFriends = []"
   ]
  },
  {
   "cell_type": "markdown",
   "metadata": {},
   "source": [
    "Add the three dictionaries: friend1, friend2, friend3 to the myFriends list."
   ]
  },
  {
   "cell_type": "code",
   "execution_count": 61,
   "metadata": {},
   "outputs": [],
   "source": [
    "myFriends.append(friend1)\n",
    "myFriends.append(friend2)\n",
    "myFriends.append(friend3)"
   ]
  },
  {
   "cell_type": "markdown",
   "metadata": {},
   "source": [
    "Print the first item in the myFriends list and then print just the 'Name' of the second item in the list.\""
   ]
  },
  {
   "cell_type": "code",
   "execution_count": 62,
   "metadata": {},
   "outputs": [
    {
     "name": "stdout",
     "output_type": "stream",
     "text": [
      "{'Name': 'David', 'Age': 34, 'Birthday': '3/6'}\n",
      "Mark\n"
     ]
    }
   ],
   "source": [
    "print(myFriends[0])\n",
    "print(myFriends[2]['Name'])"
   ]
  },
  {
   "cell_type": "markdown",
   "metadata": {},
   "source": [
    "Loop through the myFriends list and check which friend is the oldest and print his/her name."
   ]
  },
  {
   "cell_type": "code",
   "execution_count": 63,
   "metadata": {},
   "outputs": [
    {
     "name": "stdout",
     "output_type": "stream",
     "text": [
      "Mark\n"
     ]
    }
   ],
   "source": [
    "oldest = 0\n",
    "for friend in myFriends:\n",
    "    if friend['Age'] > oldest:\n",
    "        oldest = friend['Age']\n",
    "        name = friend['Name']\n",
    "        \n",
    "print(name)"
   ]
  },
  {
   "cell_type": "markdown",
   "metadata": {},
   "source": [
    "### Step 6 - Classes, Objects, Attributes, and Methods"
   ]
  },
  {
   "cell_type": "markdown",
   "metadata": {},
   "source": [
    "Define a new class called: Book with the following definition: \n",
    "1. Attributes to be initalized during a new object creation: name, author, pages, price.\n",
    "2. One method called update_price that will get as a parameter an updated price and adjust the object price attribute."
   ]
  },
  {
   "cell_type": "code",
   "execution_count": 64,
   "metadata": {},
   "outputs": [],
   "source": [
    "class Book:\n",
    "    def __init__(self, name, author, pages, price):\n",
    "        self.name = name\n",
    "        self.author = author\n",
    "        self.pages = pages\n",
    "        self.price = price\n",
    "        \n",
    "    def update_price(self, new_price):\n",
    "        self.price = new_price"
   ]
  },
  {
   "cell_type": "markdown",
   "metadata": {},
   "source": [
    "Create two objects from the new class: book1, book2 with the following info:\n",
    "1. book1: 'Python for Begineers', 'David', 240, 99\n",
    "2. book2: 'Machine Learning for Begineers', 'Marta',320, 199"
   ]
  },
  {
   "cell_type": "code",
   "execution_count": 65,
   "metadata": {},
   "outputs": [],
   "source": [
    "book1 = Book('Python for Beginners', 'David', 240, 99)\n",
    "book2 = Book('Machine Learning for Beginners', 'Marta', 320, 199)"
   ]
  },
  {
   "cell_type": "markdown",
   "metadata": {},
   "source": [
    "Print the name and price of book1."
   ]
  },
  {
   "cell_type": "code",
   "execution_count": 66,
   "metadata": {},
   "outputs": [
    {
     "name": "stdout",
     "output_type": "stream",
     "text": [
      "Name: Python for Beginners, Price: 99\n"
     ]
    }
   ],
   "source": [
    "print(f'Name: {book1.name}, Price: {book1.price}')"
   ]
  },
  {
   "cell_type": "markdown",
   "metadata": {},
   "source": [
    "Update the price of book1 to 79 using the object method and print the name and price again."
   ]
  },
  {
   "cell_type": "code",
   "execution_count": 67,
   "metadata": {},
   "outputs": [
    {
     "name": "stdout",
     "output_type": "stream",
     "text": [
      "Name: Python for Beginners, Price: 79\n"
     ]
    }
   ],
   "source": [
    "book1.update_price(79)\n",
    "print(f'Name: {book1.name}, Price: {book1.price}')"
   ]
  },
  {
   "cell_type": "markdown",
   "metadata": {},
   "source": [
    "### Step 7 - Importing Modules"
   ]
  },
  {
   "cell_type": "markdown",
   "metadata": {},
   "source": [
    "Import the following modules:\n",
    "1. random module with alias rd\n",
    "2. math module \n",
    "3. statistics module"
   ]
  },
  {
   "cell_type": "code",
   "execution_count": 69,
   "metadata": {},
   "outputs": [],
   "source": [
    "import random as rd\n",
    "import math\n",
    "import statistics as st"
   ]
  },
  {
   "cell_type": "markdown",
   "metadata": {},
   "source": [
    "Generate 10 random integer numbers between 0 to 20 and store them in a list variable called myrandom. Print the new list."
   ]
  },
  {
   "cell_type": "code",
   "execution_count": 72,
   "metadata": {},
   "outputs": [
    {
     "name": "stdout",
     "output_type": "stream",
     "text": [
      "[18, 11, 13, 6, 4, 12, 19, 5, 20, 12]\n"
     ]
    }
   ],
   "source": [
    "myrandom = []\n",
    "\n",
    "for i in range(10):\n",
    "    random_num = rd.randint(0, 20)\n",
    "    myrandom.append(random_num)\n",
    "    \n",
    "print(myrandom)"
   ]
  },
  {
   "cell_type": "markdown",
   "metadata": {},
   "source": [
    "Calculate and print the following calculation : sin(0.5*pi) * (2^8)."
   ]
  },
  {
   "cell_type": "code",
   "execution_count": 74,
   "metadata": {},
   "outputs": [
    {
     "data": {
      "text/plain": [
       "256.0"
      ]
     },
     "execution_count": 74,
     "metadata": {},
     "output_type": "execute_result"
    }
   ],
   "source": [
    "math.sin(0.5 * math.pi) * math.pow(2, 8)"
   ]
  },
  {
   "cell_type": "markdown",
   "metadata": {},
   "source": [
    "Print the arithmetic mean and the standard deviation of the numbers in the myrandom list."
   ]
  },
  {
   "cell_type": "code",
   "execution_count": 75,
   "metadata": {},
   "outputs": [
    {
     "data": {
      "text/plain": [
       "5.773502691896258"
      ]
     },
     "execution_count": 75,
     "metadata": {},
     "output_type": "execute_result"
    }
   ],
   "source": [
    "st.mean(myrandom)\n",
    "st.stdev(myrandom)"
   ]
  },
  {
   "cell_type": "markdown",
   "metadata": {},
   "source": [
    "### End of document\n",
    "************************"
   ]
  }
 ],
 "metadata": {
  "kernelspec": {
   "display_name": "Python 3 (ipykernel)",
   "language": "python",
   "name": "python3"
  },
  "language_info": {
   "codemirror_mode": {
    "name": "ipython",
    "version": 3
   },
   "file_extension": ".py",
   "mimetype": "text/x-python",
   "name": "python",
   "nbconvert_exporter": "python",
   "pygments_lexer": "ipython3",
   "version": "3.9.12"
  }
 },
 "nbformat": 4,
 "nbformat_minor": 4
}
