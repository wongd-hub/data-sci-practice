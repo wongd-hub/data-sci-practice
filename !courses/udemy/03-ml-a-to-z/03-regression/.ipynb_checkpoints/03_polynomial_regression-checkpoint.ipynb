{
 "cells": [
  {
   "cell_type": "markdown",
   "id": "fd835093",
   "metadata": {},
   "source": [
    "# Polynomial Regression"
   ]
  },
  {
   "cell_type": "code",
   "execution_count": 1,
   "id": "b186bef7",
   "metadata": {},
   "outputs": [],
   "source": [
    "import numpy as np\n",
    "import matplotlib.pyplot as plt\n",
    "import seaborn as sns\n",
    "import pandas as pd"
   ]
  },
  {
   "cell_type": "markdown",
   "id": "56075d36",
   "metadata": {},
   "source": [
    "## Intuition\n",
    "Polynomial regression comes in the form of: $y = b_0 + b_1x_1^n + \\dots + b_Nx_1^N$, and works for non-linear curves. This is still called linear regression because the linear refers to the linear combination of coefficients (since they are the unknowns). This is a generalisation of the multiple linear regression formula.\n",
    "\n",
    "## Business problem\n",
    "We're an HR department and we're trying to hire a person. They're asking for $160k p.a., because that's what they earnt in their previous company. Is that the truth or a bluff? We'll figure this out by modelling salary by position in that previous company.\n",
    "\n",
    "The dataset contains information on salaries by position in the previous company. We'll suppose that the position this individual held was between Region Manager and Partner (i.e. 6.5), and we will impute what salary this equates to.\n",
    "\n",
    "We have very little in terms of data, so we won't split into train/test sets."
   ]
  },
  {
   "cell_type": "code",
   "execution_count": 3,
   "id": "9e66be3b",
   "metadata": {},
   "outputs": [
    {
     "data": {
      "text/html": [
       "<div>\n",
       "<style scoped>\n",
       "    .dataframe tbody tr th:only-of-type {\n",
       "        vertical-align: middle;\n",
       "    }\n",
       "\n",
       "    .dataframe tbody tr th {\n",
       "        vertical-align: top;\n",
       "    }\n",
       "\n",
       "    .dataframe thead th {\n",
       "        text-align: right;\n",
       "    }\n",
       "</style>\n",
       "<table border=\"1\" class=\"dataframe\">\n",
       "  <thead>\n",
       "    <tr style=\"text-align: right;\">\n",
       "      <th></th>\n",
       "      <th>Position</th>\n",
       "      <th>Level</th>\n",
       "      <th>Salary</th>\n",
       "    </tr>\n",
       "  </thead>\n",
       "  <tbody>\n",
       "    <tr>\n",
       "      <th>0</th>\n",
       "      <td>Business Analyst</td>\n",
       "      <td>1</td>\n",
       "      <td>45000</td>\n",
       "    </tr>\n",
       "    <tr>\n",
       "      <th>1</th>\n",
       "      <td>Junior Consultant</td>\n",
       "      <td>2</td>\n",
       "      <td>50000</td>\n",
       "    </tr>\n",
       "    <tr>\n",
       "      <th>2</th>\n",
       "      <td>Senior Consultant</td>\n",
       "      <td>3</td>\n",
       "      <td>60000</td>\n",
       "    </tr>\n",
       "    <tr>\n",
       "      <th>3</th>\n",
       "      <td>Manager</td>\n",
       "      <td>4</td>\n",
       "      <td>80000</td>\n",
       "    </tr>\n",
       "    <tr>\n",
       "      <th>4</th>\n",
       "      <td>Country Manager</td>\n",
       "      <td>5</td>\n",
       "      <td>110000</td>\n",
       "    </tr>\n",
       "  </tbody>\n",
       "</table>\n",
       "</div>"
      ],
      "text/plain": [
       "            Position  Level  Salary\n",
       "0   Business Analyst      1   45000\n",
       "1  Junior Consultant      2   50000\n",
       "2  Senior Consultant      3   60000\n",
       "3            Manager      4   80000\n",
       "4    Country Manager      5  110000"
      ]
     },
     "execution_count": 3,
     "metadata": {},
     "output_type": "execute_result"
    }
   ],
   "source": [
    "dataset = pd.read_csv('./data/Position_Salaries.csv')\n",
    "\n",
    "X = dataset.iloc[:, 1:-1].values # only grab the Level column for X\n",
    "y = dataset.iloc[:, -1].values\n",
    "\n",
    "dataset.head()"
   ]
  },
  {
   "cell_type": "markdown",
   "id": "8a13016e",
   "metadata": {},
   "source": [
    "## Training the linear regression model\n",
    "We'll be training a linear regression model on this data first to compare the polynomial regression against."
   ]
  },
  {
   "cell_type": "code",
   "execution_count": 4,
   "id": "ca57c038",
   "metadata": {},
   "outputs": [
    {
     "data": {
      "text/plain": [
       "LinearRegression()"
      ]
     },
     "execution_count": 4,
     "metadata": {},
     "output_type": "execute_result"
    }
   ],
   "source": [
    "from sklearn.linear_model import LinearRegression\n",
    "\n",
    "lin_reg = LinearRegression()\n",
    "lin_reg.fit(X, y)"
   ]
  },
  {
   "cell_type": "markdown",
   "id": "9044ae7f",
   "metadata": {},
   "source": [
    "### Visualising results"
   ]
  },
  {
   "cell_type": "code",
   "execution_count": 18,
   "id": "87046424",
   "metadata": {},
   "outputs": [
    {
     "data": {
      "text/plain": [
       "Text(0, 0.5, 'Salary')"
      ]
     },
     "execution_count": 18,
     "metadata": {},
     "output_type": "execute_result"
    },
    {
     "data": {
      "image/png": "[encoded data removed]",
      "text/plain": [
       "<Figure size 432x288 with 1 Axes>"
      ]
     },
     "metadata": {
      "needs_background": "light"
     },
     "output_type": "display_data"
    }
   ],
   "source": [
    "plt.scatter(X, y)\n",
    "plt.plot(X, lin_reg.predict(X), color = 'red')\n",
    "plt.title('Truth or Bluff (Linear Regression)')\n",
    "plt.xlabel('Position')\n",
    "plt.ylabel('Salary')"
   ]
  },
  {
   "cell_type": "markdown",
   "id": "9f2165a9",
   "metadata": {},
   "source": [
    "### Predicting the salary of the position level 6.5"
   ]
  },
  {
   "cell_type": "code",
   "execution_count": 32,
   "id": "3d65f4a0",
   "metadata": {},
   "outputs": [
    {
     "data": {
      "text/plain": [
       "array([330378.78787879])"
      ]
     },
     "execution_count": 32,
     "metadata": {},
     "output_type": "execute_result"
    }
   ],
   "source": [
    "lin_reg.predict(\n",
    "    pd.DataFrame([[6.5]])\n",
    ") # this predicted salary is far and above the ballpark salary"
   ]
  },
  {
   "cell_type": "markdown",
   "id": "e2f670b0",
   "metadata": {},
   "source": [
    "## Training the polynomial regression model\n",
    "There's no polynomial regression class; instead we'll need to raise our features to certain powers using the Sci-Kit Learn pre-processing library."
   ]
  },
  {
   "cell_type": "code",
   "execution_count": 10,
   "id": "a7cdb571",
   "metadata": {},
   "outputs": [
    {
     "data": {
      "text/plain": [
       "LinearRegression()"
      ]
     },
     "execution_count": 10,
     "metadata": {},
     "output_type": "execute_result"
    }
   ],
   "source": [
    "from sklearn.preprocessing import PolynomialFeatures\n",
    "\n",
    "poly_reg = PolynomialFeatures(degree = 2)\n",
    "X_poly = poly_reg.fit_transform(X)\n",
    "\n",
    "lin_reg_2 = LinearRegression()\n",
    "lin_reg_2.fit(X_poly, y)"
   ]
  },
  {
   "cell_type": "markdown",
   "id": "f5c25972",
   "metadata": {},
   "source": [
    "### Visualising results"
   ]
  },
  {
   "cell_type": "code",
   "execution_count": 23,
   "id": "ddb7e63a",
   "metadata": {
    "scrolled": false
   },
   "outputs": [
    {
     "data": {
      "text/plain": [
       "Text(0, 0.5, 'Salary')"
      ]
     },
     "execution_count": 23,
     "metadata": {},
     "output_type": "execute_result"
    },
    {
     "data": {
      "image/png": "[encoded data removed]",
      "text/plain": [
       "<Figure size 432x288 with 1 Axes>"
      ]
     },
     "metadata": {
      "needs_background": "light"
     },
     "output_type": "display_data"
    }
   ],
   "source": [
    "plt.scatter(X, y)\n",
    "plt.plot(X, lin_reg_2.predict(X_poly), color = 'red')\n",
    "plt.title('Truth or Bluff (Polynomial Regression)')\n",
    "plt.xlabel('Position')\n",
    "plt.ylabel('Salary')"
   ]
  },
  {
   "cell_type": "markdown",
   "id": "d086f584",
   "metadata": {},
   "source": [
    "## Training the polynomial regression model with a higher degree"
   ]
  },
  {
   "cell_type": "code",
   "execution_count": 24,
   "id": "037a8383",
   "metadata": {},
   "outputs": [
    {
     "data": {
      "text/plain": [
       "LinearRegression()"
      ]
     },
     "execution_count": 24,
     "metadata": {},
     "output_type": "execute_result"
    }
   ],
   "source": [
    "poly_reg_4 = PolynomialFeatures(degree = 4)\n",
    "X_poly_4 = poly_reg_4.fit_transform(X)\n",
    "\n",
    "lin_reg_3 = LinearRegression()\n",
    "lin_reg_3.fit(X_poly_4, y)"
   ]
  },
  {
   "cell_type": "markdown",
   "id": "c0ace8b8",
   "metadata": {},
   "source": [
    "### Visualising results"
   ]
  },
  {
   "cell_type": "code",
   "execution_count": 27,
   "id": "ae271067",
   "metadata": {
    "scrolled": false
   },
   "outputs": [
    {
     "data": {
      "text/plain": [
       "Text(0, 0.5, 'Salary')"
      ]
     },
     "execution_count": 27,
     "metadata": {},
     "output_type": "execute_result"
    },
    {
     "data": {
      "image/png": "[encoded data removed]",
      "text/plain": [
       "<Figure size 432x288 with 1 Axes>"
      ]
     },
     "metadata": {
      "needs_background": "light"
     },
     "output_type": "display_data"
    }
   ],
   "source": [
    "plt.scatter(X, y)\n",
    "plt.plot(X, lin_reg_3.predict(X_poly_4), color = 'red')\n",
    "plt.title('Truth or Bluff (Polynomial Regression, degree 4)')\n",
    "plt.xlabel('Position')\n",
    "plt.ylabel('Salary')"
   ]
  },
  {
   "cell_type": "markdown",
   "id": "d7a0bd9b",
   "metadata": {},
   "source": [
    "This is still pretty low-res; we can increase the resolution by predicting with the `lin_reg_3` model over the continuous range from 1-10 instead of the integer range."
   ]
  },
  {
   "cell_type": "code",
   "execution_count": 31,
   "id": "8ec289ba",
   "metadata": {
    "scrolled": true
   },
   "outputs": [
    {
     "data": {
      "text/plain": [
       "Text(0, 0.5, 'Salary')"
      ]
     },
     "execution_count": 31,
     "metadata": {},
     "output_type": "execute_result"
    },
    {
     "data": {
      "image/png": "[encoded data removed]",
      "text/plain": [
       "<Figure size 432x288 with 1 Axes>"
      ]
     },
     "metadata": {
      "needs_background": "light"
     },
     "output_type": "display_data"
    }
   ],
   "source": [
    "X_grid = np.arange(min(X), max(X), 0.1)\n",
    "X_grid = X_grid.reshape((len(X_grid), 1))\n",
    "\n",
    "plt.scatter(X, y, color = 'red')\n",
    "plt.plot(X_grid, lin_reg_3.predict(poly_reg_4.fit_transform(X_grid, y)), color = 'blue')\n",
    "plt.title('Truth or Bluff (Polynomial Regression)')\n",
    "plt.xlabel('Position')\n",
    "plt.ylabel('Salary')"
   ]
  },
  {
   "cell_type": "markdown",
   "id": "f23e746f",
   "metadata": {},
   "source": [
    "### Predicting the salary of the position level 6.5"
   ]
  },
  {
   "cell_type": "code",
   "execution_count": 33,
   "id": "4e3d1553",
   "metadata": {},
   "outputs": [
    {
     "data": {
      "text/plain": [
       "array([158862.45265153])"
      ]
     },
     "execution_count": 33,
     "metadata": {},
     "output_type": "execute_result"
    }
   ],
   "source": [
    "lin_reg_3.predict(\n",
    "    poly_reg_4.fit_transform(pd.DataFrame([[6.5]]))\n",
    ") # this predicted salary closer to the salary mentioned by the applicant"
   ]
  }
 ],
 "metadata": {
  "kernelspec": {
   "display_name": "Python 3 (ipykernel)",
   "language": "python",
   "name": "python3"
  },
  "language_info": {
   "codemirror_mode": {
    "name": "ipython",
    "version": 3
   },
   "file_extension": ".py",
   "mimetype": "text/x-python",
   "name": "python",
   "nbconvert_exporter": "python",
   "pygments_lexer": "ipython3",
   "version": "3.9.12"
  }
 },
 "nbformat": 4,
 "nbformat_minor": 5
}
