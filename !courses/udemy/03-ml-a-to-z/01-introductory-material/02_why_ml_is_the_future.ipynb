{
 "cells": [
  {
   "attachments": {},
   "cell_type": "markdown",
   "id": "85e7ee43",
   "metadata": {},
   "source": [
    "# Why machine learning is the future\n",
    "\n",
    "* Data is everywhere, you leave a 'data exhaust' wherever you go.\n",
    "* From the beginning of time to 2005, humans had created 130 exabytes of data.\n",
    "    * 1,000 letters fits onto about one page which is about a kilobyte.\n",
    "    * 1,000 pages gives you a book, which is about a megabyte.\n",
    "    * Another 1,000 times gives you a gigabyte, which can fit the whole human genome.\n",
    "    * !,000 times that is a terabyte, which you can store about 80 years of HD camera footage in.\n",
    "    * Multiply by another 1,000 and you'll get a petabyte; you can take the entire Amazon rainforest (all 700 billion trees in it), turn those into pages, and fill those pages with text and you'll get 1-2 petabytes worth of data.\n",
    "    * Multiply by another 1,000 and you'll get an exabyte.\n",
    "* By 2010, there were 1,200 exabytes of data.\n",
    "    * By 2015, 7,900 exabytes.\n",
    "    * By 2020, 40,900 exabytes.\n",
    "    * This is a growth of 50x from 2010 to 2020.\n",
    "* Data scientists and machines in their normal course of business use a small percentage of this data, but machine learning presents an opportunity to make sense of the rest of it and use it to add value.\n",
    "\n",
    "# Some other notes about this course\n",
    "\n",
    "* Practical activities will be available in both Python and R, however it's not necessary to do it in both."
   ]
  }
 ],
 "metadata": {
  "kernelspec": {
   "display_name": "Python 3 (ipykernel)",
   "language": "python",
   "name": "python3"
  },
  "language_info": {
   "codemirror_mode": {
    "name": "ipython",
    "version": 3
   },
   "file_extension": ".py",
   "mimetype": "text/x-python",
   "name": "python",
   "nbconvert_exporter": "python",
   "pygments_lexer": "ipython3",
   "version": "3.9.12"
  }
 },
 "nbformat": 4,
 "nbformat_minor": 5
}
