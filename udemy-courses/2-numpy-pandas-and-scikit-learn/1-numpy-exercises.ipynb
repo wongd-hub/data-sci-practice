{
 "cells": [
  {
   "cell_type": "markdown",
   "id": "cfa0bf42-7d4d-4b24-98d7-62313ec8e10c",
   "metadata": {},
   "source": [
    "# NumPy"
   ]
  },
  {
   "cell_type": "code",
   "execution_count": 62,
   "id": "0daa44f4-fce0-4c23-85e4-167b9535d1e0",
   "metadata": {},
   "outputs": [
    {
     "name": "stdout",
     "output_type": "stream",
     "text": [
      "1.21.5\n"
     ]
    }
   ],
   "source": [
    "# Importing NumPy and printing version\n",
    "import numpy as np\n",
    "print(np.__version__)"
   ]
  },
  {
   "cell_type": "code",
   "execution_count": 63,
   "id": "0093e56b-356c-4893-b47b-bf1defbcce5f",
   "metadata": {},
   "outputs": [
    {
     "name": "stdout",
     "output_type": "stream",
     "text": [
      "A: True\n",
      "B: False\n",
      "C: False\n",
      "D: True\n"
     ]
    }
   ],
   "source": [
    "# Exercise 1\n",
    "#  Check if ALL values of each array evaluate to True\n",
    "A = np.array([[3, 2, 1, 4],\n",
    "              [5, 2, 1, 6]])\n",
    "\n",
    "B = np.array([[3, 2, 1, 4],\n",
    "              [5, 2, 0, 6]])\n",
    "\n",
    "C = np.array([[True, False, False],\n",
    "              [True, True, True]])\n",
    "\n",
    "D = np.array([0.1, 0.3])\n",
    "\n",
    "# Solution\n",
    "print(\n",
    "    f'A: {np.all(A)}\\nB: {np.all(B)}\\nC: {np.all(C)}\\nD: {np.all(D)}'\n",
    ")\n",
    "\n",
    "# Alternative solution\n",
    "# for name, array in zip(list('ABCD'), [A, B, C, D]):\n",
    "#     print(f'{name}: {np.all(array)}')"
   ]
  },
  {
   "cell_type": "code",
   "execution_count": 64,
   "id": "f9a7b050-6239-45bb-8a2b-da69b3c8e191",
   "metadata": {},
   "outputs": [
    {
     "name": "stdout",
     "output_type": "stream",
     "text": [
      "A: [ True  True]\n",
      "B: [ True False]\n",
      "C: [False  True]\n"
     ]
    }
   ],
   "source": [
    "# Exercise 2\n",
    "#  Check if ALL elements in the following arrays return True along the axis with index 1\n",
    "\n",
    "A = np.array([[3, 2, 1, 4],\n",
    "              [5, 2, 1, 6]])\n",
    "\n",
    "B = np.array([[3, 2, 1, 4],\n",
    "              [5, 2, 0, 6]])\n",
    "\n",
    "C = np.array([[True, False, False],\n",
    "              [True, True, True]])\n",
    "\n",
    "for name, array in zip(list('ABC'), [A, B, C]):\n",
    "    print(f'{name}: {np.all(array, axis = 1)}')"
   ]
  },
  {
   "cell_type": "code",
   "execution_count": 65,
   "id": "6a45dd38-b4f0-450d-a429-1630f0935577",
   "metadata": {},
   "outputs": [
    {
     "name": "stdout",
     "output_type": "stream",
     "text": [
      "A: False\n",
      "B: True\n",
      "C: True\n",
      "D: True\n"
     ]
    }
   ],
   "source": [
    "# Exercise 3\n",
    "#  Check if ANY element in the following arrays returns True\n",
    "\n",
    "A = np.array([[0, 0, 0],\n",
    "              [0, 0, 0]])\n",
    "\n",
    "B = np.array([[0, 0, 0],\n",
    "              [0, 1, 0]])\n",
    "\n",
    "C = np.array([[False, False, False],\n",
    "              [True, False, False]])\n",
    "\n",
    "D = np.array([[0.1, 0.0]])\n",
    "\n",
    "for name, array in zip(list('ABCD'), [A, B, C, D]):\n",
    "    print(f'{name}: {np.any(array)}')"
   ]
  },
  {
   "cell_type": "code",
   "execution_count": 66,
   "id": "14ce4e5c-dd23-4644-8bbc-41c647fdbb57",
   "metadata": {},
   "outputs": [
    {
     "name": "stdout",
     "output_type": "stream",
     "text": [
      "A: [False False False]\n",
      "B: [False  True False]\n",
      "C: [ True False False]\n",
      "D: [ True False]\n"
     ]
    }
   ],
   "source": [
    "# Exercise 4\n",
    "#  Check if ANY element in the following arrays returns True along axis 0\n",
    "\n",
    "A = np.array([[0, 0, 0],\n",
    "              [0, 0, 0]])\n",
    "\n",
    "B = np.array([[0, 0, 0],\n",
    "              [0, 1, 0]])\n",
    "\n",
    "C = np.array([[False, False, False],\n",
    "              [True, False, False]])\n",
    "\n",
    "D = np.array([[0.1, 0.0]])\n",
    "\n",
    "for name, array in zip(list('ABCD'), [A, B, C, D]):\n",
    "    print(f'{name}: {np.any(array, axis = 0)}')"
   ]
  },
  {
   "cell_type": "code",
   "execution_count": 67,
   "id": "c9f23ada-dc55-424d-be70-12eae1c34211",
   "metadata": {},
   "outputs": [
    {
     "name": "stdout",
     "output_type": "stream",
     "text": [
      "[[False False False  True]\n",
      " [False  True False False]]\n"
     ]
    }
   ],
   "source": [
    "# Exercise 5\n",
    "#  Check if the following array has any missing data (np.nan)\n",
    "\n",
    "A = np.array([[3, 2, 1, np.nan],\n",
    "              [5, np.nan, 1, 6]])\n",
    "\n",
    "print(np.isnan(A))"
   ]
  },
  {
   "cell_type": "code",
   "execution_count": 68,
   "id": "6e13a7dd-5e2d-498f-a39e-3d30fc57847e",
   "metadata": {},
   "outputs": [
    {
     "name": "stdout",
     "output_type": "stream",
     "text": [
      "True\n"
     ]
    }
   ],
   "source": [
    "# Exercise 6\n",
    "#  Check if the following arrays are equivalent (element-wise)\n",
    "\n",
    "A = np.array([0.4, 0.5, 0.3])\n",
    "B = np.array([0.39999999, 0.5000001, 0.3])\n",
    "\n",
    "print(np.allclose(A, B))"
   ]
  },
  {
   "cell_type": "code",
   "execution_count": 69,
   "id": "fbf06ef0-159f-4140-8ee9-0e8918a41aac",
   "metadata": {},
   "outputs": [
    {
     "name": "stdout",
     "output_type": "stream",
     "text": [
      "[False False  True]\n"
     ]
    }
   ],
   "source": [
    "# Exercise 7\n",
    "#  Check if the previous arrays are equivalent (element-wise) using the equivalence operator\n",
    "\n",
    "print(A == B)"
   ]
  },
  {
   "cell_type": "code",
   "execution_count": null,
   "id": "9b94a699-9538-4ace-afa0-a313066dbb17",
   "metadata": {},
   "outputs": [],
   "source": [
    "# Exercise 8\n",
    "#  "
   ]
  },
  {
   "cell_type": "code",
   "execution_count": null,
   "id": "2ec468bb-20ad-4cd1-92c6-79dd1e86900c",
   "metadata": {},
   "outputs": [],
   "source": [
    "# Exercise 9\n",
    "#  "
   ]
  },
  {
   "cell_type": "code",
   "execution_count": null,
   "id": "f41db097-5adb-4176-bacd-d1915d0c1dbd",
   "metadata": {},
   "outputs": [],
   "source": [
    "# Exercise 10\n",
    "#  "
   ]
  },
  {
   "cell_type": "code",
   "execution_count": null,
   "id": "f578d92a-93c4-443f-9ca0-6f4bff5b78a8",
   "metadata": {},
   "outputs": [],
   "source": [
    "# Exercise 11\n",
    "#  "
   ]
  },
  {
   "cell_type": "code",
   "execution_count": null,
   "id": "b1c5c2c0-ad4c-488d-a1a3-f0e6e0ab1773",
   "metadata": {},
   "outputs": [],
   "source": [
    "# Exercise 12\n",
    "#  "
   ]
  },
  {
   "cell_type": "code",
   "execution_count": null,
   "id": "36e9c29e-395b-49cc-a035-37b25963b34b",
   "metadata": {},
   "outputs": [],
   "source": [
    "# Exercise 13\n",
    "#  "
   ]
  },
  {
   "cell_type": "code",
   "execution_count": null,
   "id": "f3babdea-de01-4572-a30e-3f3ffa712431",
   "metadata": {},
   "outputs": [],
   "source": [
    "# Exercise 14\n",
    "#  "
   ]
  },
  {
   "cell_type": "code",
   "execution_count": null,
   "id": "66a44c0b-bf55-447b-932a-356ed1603e33",
   "metadata": {},
   "outputs": [],
   "source": [
    "# Exercise 15\n",
    "#  "
   ]
  },
  {
   "cell_type": "code",
   "execution_count": null,
   "id": "b4c2ed36-13bc-4ba0-9ed1-656054bedaa8",
   "metadata": {},
   "outputs": [],
   "source": [
    "# Exercise 16\n",
    "#  "
   ]
  },
  {
   "cell_type": "code",
   "execution_count": null,
   "id": "1d529a74-cf9d-4b39-96b6-cfb369655858",
   "metadata": {},
   "outputs": [],
   "source": [
    "# Exercise 17\n",
    "#  "
   ]
  },
  {
   "cell_type": "code",
   "execution_count": null,
   "id": "f1f9a407-d36f-480c-8273-dd9db462c05c",
   "metadata": {},
   "outputs": [],
   "source": [
    "# Exercise 18\n",
    "#  "
   ]
  },
  {
   "cell_type": "code",
   "execution_count": null,
   "id": "779d1037-b263-475c-b83d-3493a007e8d8",
   "metadata": {},
   "outputs": [],
   "source": [
    "# Exercise 19\n",
    "#  "
   ]
  },
  {
   "cell_type": "code",
   "execution_count": null,
   "id": "2bb7f123-8bb1-4738-88a4-78183e1423b4",
   "metadata": {},
   "outputs": [],
   "source": [
    "# Exercise 20\n",
    "#  "
   ]
  }
 ],
 "metadata": {
  "kernelspec": {
   "display_name": "Python 3 (ipykernel)",
   "language": "python",
   "name": "python3"
  },
  "language_info": {
   "codemirror_mode": {
    "name": "ipython",
    "version": 3
   },
   "file_extension": ".py",
   "mimetype": "text/x-python",
   "name": "python",
   "nbconvert_exporter": "python",
   "pygments_lexer": "ipython3",
   "version": "3.9.12"
  }
 },
 "nbformat": 4,
 "nbformat_minor": 5
}
