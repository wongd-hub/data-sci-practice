{
 "cells": [
  {
   "cell_type": "markdown",
   "id": "c97054c7-f617-4887-9864-15cb58b2628d",
   "metadata": {},
   "source": [
    "# Codecademy Linear Algebra Quiz Working"
   ]
  },
  {
   "cell_type": "code",
   "execution_count": 2,
   "id": "332f7000-e7ee-441a-aae3-5affce5f9bb9",
   "metadata": {},
   "outputs": [
    {
     "name": "stdout",
     "output_type": "stream",
     "text": [
      "(-0.3333333333333333, -0.6666666666666666, 0.6666666666666666)\n"
     ]
    }
   ],
   "source": [
    "import numpy as np\n",
    "\n",
    "# Solving a system of equations\n",
    "A = np.array([[2, -3, 1],\n",
    "              [3, 1, 1],\n",
    "              [-1, -2, -1]])\n",
    "\n",
    "b = np.array([2, -1, 1])\n",
    "             \n",
    "x, y, z = np.linalg.solve(A, b)\n",
    "\n",
    "print((x, y, z))"
   ]
  },
  {
   "cell_type": "code",
   "execution_count": 3,
   "id": "8fd9fdd1-eea7-4b37-bd10-841008d184d7",
   "metadata": {},
   "outputs": [
    {
     "name": "stdout",
     "output_type": "stream",
     "text": [
      "[[  1   1  -4]\n",
      " [-15  13  -4]\n",
      " [ -2   2   4]]\n"
     ]
    }
   ],
   "source": [
    "# Matrix multiplication\n",
    "A = np.array([[2, -3, 1],\n",
    "              [-2, -1, 4],\n",
    "              [0, 2, 2]])\n",
    "\n",
    "B = np.array([[3, -2, 1],\n",
    "              [1, -1, 2],\n",
    "              [-2, 2, 0]])\n",
    "\n",
    "print(A@B)"
   ]
  },
  {
   "cell_type": "code",
   "execution_count": 6,
   "id": "afe2a404-ada0-43e0-a2cb-329d60795ad8",
   "metadata": {},
   "outputs": [
    {
     "name": "stdout",
     "output_type": "stream",
     "text": [
      "[[  7  14]\n",
      " [-11  -1]]\n"
     ]
    }
   ],
   "source": [
    "# Simple matrix operations\n",
    "A = np.array([[2, 3],\n",
    "              [-2, 0]])\n",
    "             \n",
    "B = np.array([[1, -2],\n",
    "              [3, 1]])\n",
    "             \n",
    "print(4 * A - B)"
   ]
  },
  {
   "cell_type": "code",
   "execution_count": 11,
   "id": "b1071939-0c85-4691-b317-c4e0005ee0e0",
   "metadata": {},
   "outputs": [
    {
     "name": "stdout",
     "output_type": "stream",
     "text": [
      "0.9680017740426317\n"
     ]
    }
   ],
   "source": [
    "# Angle between two vectors\n",
    "A = np.array([3, -1, 2])\n",
    "B = np.array([0, -1, 1])\n",
    "print(np.arccos(np.dot(A, B) / (np.linalg.norm(A) * np.linalg.norm(B))))"
   ]
  },
  {
   "cell_type": "code",
   "execution_count": 12,
   "id": "49652af4-7d97-4958-9807-e57ce264b8b5",
   "metadata": {},
   "outputs": [
    {
     "name": "stdout",
     "output_type": "stream",
     "text": [
      "[ 13 -14  14]\n"
     ]
    }
   ],
   "source": [
    "# More simple matrix operations\n",
    "A = np.array([3, -2, 2])\n",
    "B = np.array([1, 2, -2])\n",
    "\n",
    "print(5 * A - 2 * B)"
   ]
  },
  {
   "cell_type": "code",
   "execution_count": 13,
   "id": "a5bc57ee-183c-4651-8c33-034f729e46ba",
   "metadata": {},
   "outputs": [
    {
     "name": "stdout",
     "output_type": "stream",
     "text": [
      "[36 11]\n"
     ]
    }
   ],
   "source": [
    "# Further matrix operations\n",
    "A = np.array([6, -1])\n",
    "B1 = np.array([[3, -1], [1, -2]])\n",
    "B2 = np.array([[0, 2], [-1, -1]])\n",
    "B = 2 * B1 + B2\n",
    "print(B@A)"
   ]
  },
  {
   "cell_type": "code",
   "execution_count": 14,
   "id": "0befb06c-8125-45b0-83cb-10cc1a643c90",
   "metadata": {},
   "outputs": [
    {
     "name": "stdout",
     "output_type": "stream",
     "text": [
      "6.244997998398398\n"
     ]
    }
   ],
   "source": [
    "# Magnitude of vector\n",
    "print(np.linalg.norm(np.array([-2, -3, 0, 5, 1])))"
   ]
  }
 ],
 "metadata": {
  "kernelspec": {
   "display_name": "Python 3 (ipykernel)",
   "language": "python",
   "name": "python3"
  },
  "language_info": {
   "codemirror_mode": {
    "name": "ipython",
    "version": 3
   },
   "file_extension": ".py",
   "mimetype": "text/x-python",
   "name": "python",
   "nbconvert_exporter": "python",
   "pygments_lexer": "ipython3",
   "version": "3.9.12"
  }
 },
 "nbformat": 4,
 "nbformat_minor": 5
}
