{
 "cells": [
  {
   "cell_type": "markdown",
   "id": "cfa0bf42-7d4d-4b24-98d7-62313ec8e10c",
   "metadata": {},
   "source": [
    "# NumPy"
   ]
  },
  {
   "cell_type": "code",
   "execution_count": 62,
   "id": "0daa44f4-fce0-4c23-85e4-167b9535d1e0",
   "metadata": {},
   "outputs": [
    {
     "name": "stdout",
     "output_type": "stream",
     "text": [
      "1.21.5\n"
     ]
    }
   ],
   "source": [
    "# Importing NumPy and printing version\n",
    "import numpy as np\n",
    "print(np.__version__)"
   ]
  },
  {
   "cell_type": "code",
   "execution_count": 63,
   "id": "0093e56b-356c-4893-b47b-bf1defbcce5f",
   "metadata": {},
   "outputs": [
    {
     "name": "stdout",
     "output_type": "stream",
     "text": [
      "A: True\n",
      "B: False\n",
      "C: False\n",
      "D: True\n"
     ]
    }
   ],
   "source": [
    "# Exercise 1\n",
    "#  Check if ALL values of each array evaluate to True\n",
    "A = np.array([[3, 2, 1, 4],\n",
    "              [5, 2, 1, 6]])\n",
    "\n",
    "B = np.array([[3, 2, 1, 4],\n",
    "              [5, 2, 0, 6]])\n",
    "\n",
    "C = np.array([[True, False, False],\n",
    "              [True, True, True]])\n",
    "\n",
    "D = np.array([0.1, 0.3])\n",
    "\n",
    "# Solution\n",
    "print(\n",
    "    f'A: {np.all(A)}\\nB: {np.all(B)}\\nC: {np.all(C)}\\nD: {np.all(D)}'\n",
    ")\n",
    "\n",
    "# Alternative solution\n",
    "# for name, array in zip(list('ABCD'), [A, B, C, D]):\n",
    "#     print(f'{name}: {np.all(array)}')"
   ]
  },
  {
   "cell_type": "code",
   "execution_count": 64,
   "id": "f9a7b050-6239-45bb-8a2b-da69b3c8e191",
   "metadata": {},
   "outputs": [
    {
     "name": "stdout",
     "output_type": "stream",
     "text": [
      "A: [ True  True]\n",
      "B: [ True False]\n",
      "C: [False  True]\n"
     ]
    }
   ],
   "source": [
    "# Exercise 2\n",
    "#  Check if ALL elements in the following arrays return True along the axis with index 1\n",
    "\n",
    "A = np.array([[3, 2, 1, 4],\n",
    "              [5, 2, 1, 6]])\n",
    "\n",
    "B = np.array([[3, 2, 1, 4],\n",
    "              [5, 2, 0, 6]])\n",
    "\n",
    "C = np.array([[True, False, False],\n",
    "              [True, True, True]])\n",
    "\n",
    "for name, array in zip(list('ABC'), [A, B, C]):\n",
    "    print(f'{name}: {np.all(array, axis = 1)}')"
   ]
  },
  {
   "cell_type": "code",
   "execution_count": 65,
   "id": "6a45dd38-b4f0-450d-a429-1630f0935577",
   "metadata": {},
   "outputs": [
    {
     "name": "stdout",
     "output_type": "stream",
     "text": [
      "A: False\n",
      "B: True\n",
      "C: True\n",
      "D: True\n"
     ]
    }
   ],
   "source": [
    "# Exercise 3\n",
    "#  Check if ANY element in the following arrays returns True\n",
    "\n",
    "A = np.array([[0, 0, 0],\n",
    "              [0, 0, 0]])\n",
    "\n",
    "B = np.array([[0, 0, 0],\n",
    "              [0, 1, 0]])\n",
    "\n",
    "C = np.array([[False, False, False],\n",
    "              [True, False, False]])\n",
    "\n",
    "D = np.array([[0.1, 0.0]])\n",
    "\n",
    "for name, array in zip(list('ABCD'), [A, B, C, D]):\n",
    "    print(f'{name}: {np.any(array)}')"
   ]
  },
  {
   "cell_type": "code",
   "execution_count": 66,
   "id": "14ce4e5c-dd23-4644-8bbc-41c647fdbb57",
   "metadata": {},
   "outputs": [
    {
     "name": "stdout",
     "output_type": "stream",
     "text": [
      "A: [False False False]\n",
      "B: [False  True False]\n",
      "C: [ True False False]\n",
      "D: [ True False]\n"
     ]
    }
   ],
   "source": [
    "# Exercise 4\n",
    "#  Check if ANY element in the following arrays returns True along axis 0\n",
    "\n",
    "A = np.array([[0, 0, 0],\n",
    "              [0, 0, 0]])\n",
    "\n",
    "B = np.array([[0, 0, 0],\n",
    "              [0, 1, 0]])\n",
    "\n",
    "C = np.array([[False, False, False],\n",
    "              [True, False, False]])\n",
    "\n",
    "D = np.array([[0.1, 0.0]])\n",
    "\n",
    "for name, array in zip(list('ABCD'), [A, B, C, D]):\n",
    "    print(f'{name}: {np.any(array, axis = 0)}')"
   ]
  },
  {
   "cell_type": "code",
   "execution_count": 67,
   "id": "c9f23ada-dc55-424d-be70-12eae1c34211",
   "metadata": {},
   "outputs": [
    {
     "name": "stdout",
     "output_type": "stream",
     "text": [
      "[[False False False  True]\n",
      " [False  True False False]]\n"
     ]
    }
   ],
   "source": [
    "# Exercise 5\n",
    "#  Check if the following array has any missing data (np.nan)\n",
    "\n",
    "A = np.array([[3, 2, 1, np.nan],\n",
    "              [5, np.nan, 1, 6]])\n",
    "\n",
    "print(np.isnan(A))"
   ]
  },
  {
   "cell_type": "code",
   "execution_count": 68,
   "id": "6e13a7dd-5e2d-498f-a39e-3d30fc57847e",
   "metadata": {},
   "outputs": [
    {
     "name": "stdout",
     "output_type": "stream",
     "text": [
      "True\n"
     ]
    }
   ],
   "source": [
    "# Exercise 6\n",
    "#  Check if the following arrays are equivalent (element-wise)\n",
    "\n",
    "A = np.array([0.4, 0.5, 0.3])\n",
    "B = np.array([0.39999999, 0.5000001, 0.3])\n",
    "\n",
    "print(np.allclose(A, B))"
   ]
  },
  {
   "cell_type": "code",
   "execution_count": 69,
   "id": "fbf06ef0-159f-4140-8ee9-0e8918a41aac",
   "metadata": {},
   "outputs": [
    {
     "name": "stdout",
     "output_type": "stream",
     "text": [
      "[False False  True]\n"
     ]
    }
   ],
   "source": [
    "# Exercise 7\n",
    "#  Check if the previous arrays are equivalent (element-wise) using the equivalence operator\n",
    "\n",
    "print(A == B)"
   ]
  },
  {
   "cell_type": "code",
   "execution_count": null,
   "id": "9b94a699-9538-4ace-afa0-a313066dbb17",
   "metadata": {},
   "outputs": [],
   "source": [
    "# Exercise 8\n",
    "#  Check which elements of A are greater than elements of B\n",
    "\n",
    "A = np.array([0.4, 0.5, 0.3, 0.9])\n",
    "B = np.array([0.38, 0.51, 0.3, 0.91])\n",
    "\n",
    "print(A > B)"
   ]
  },
  {
   "cell_type": "code",
   "execution_count": 72,
   "id": "2ec468bb-20ad-4cd1-92c6-79dd1e86900c",
   "metadata": {},
   "outputs": [
    {
     "name": "stdout",
     "output_type": "stream",
     "text": [
      "[[0 0 0 0]\n",
      " [0 0 0 0]\n",
      " [0 0 0 0]\n",
      " [0 0 0 0]]\n"
     ]
    }
   ],
   "source": [
    "# Exercise 9\n",
    "#  Create a 4x4 array filled with 0s with type 'int'\n",
    "\n",
    "print(np.zeros((4, 4), dtype = int))\n"
   ]
  },
  {
   "cell_type": "code",
   "execution_count": 74,
   "id": "f41db097-5adb-4176-bacd-d1915d0c1dbd",
   "metadata": {},
   "outputs": [
    {
     "data": {
      "text/plain": [
       "array([[255., 255., 255., 255., 255., 255., 255., 255., 255., 255.],\n",
       "       [255., 255., 255., 255., 255., 255., 255., 255., 255., 255.],\n",
       "       [255., 255., 255., 255., 255., 255., 255., 255., 255., 255.],\n",
       "       [255., 255., 255., 255., 255., 255., 255., 255., 255., 255.],\n",
       "       [255., 255., 255., 255., 255., 255., 255., 255., 255., 255.],\n",
       "       [255., 255., 255., 255., 255., 255., 255., 255., 255., 255.],\n",
       "       [255., 255., 255., 255., 255., 255., 255., 255., 255., 255.],\n",
       "       [255., 255., 255., 255., 255., 255., 255., 255., 255., 255.],\n",
       "       [255., 255., 255., 255., 255., 255., 255., 255., 255., 255.],\n",
       "       [255., 255., 255., 255., 255., 255., 255., 255., 255., 255.]])"
      ]
     },
     "execution_count": 74,
     "metadata": {},
     "output_type": "execute_result"
    }
   ],
   "source": [
    "# Exercise 10\n",
    "#  Create a 10x10 array filled with 255s with type 'float'\n",
    "\n",
    "print(np.full((10, 10), fill_value = 255, dtype = float))"
   ]
  },
  {
   "cell_type": "code",
   "execution_count": 78,
   "id": "f578d92a-93c4-443f-9ca0-6f4bff5b78a8",
   "metadata": {},
   "outputs": [
    {
     "name": "stdout",
     "output_type": "stream",
     "text": [
      "[10 11 12 13 14 15 16 17 18 19 20 21 22 23 24 25 26 27 28 29 30 31 32 33\n",
      " 34 35 36 37 38 39 40 41 42 43 44 45 46 47 48 49 50 51 52 53 54 55 56 57\n",
      " 58 59 60 61 62 63 64 65 66 67 68 69 70 71 72 73 74 75 76 77 78 79 80 81\n",
      " 82 83 84 85 86 87 88 89 90 91 92 93 94 95 96 97 98 99]\n"
     ]
    }
   ],
   "source": [
    "# Exercise 11\n",
    "#  Create a one-dimensional array of all two-digit numbers\n",
    "\n",
    "print(np.arange(10, 100))"
   ]
  },
  {
   "cell_type": "code",
   "execution_count": 80,
   "id": "b1c5c2c0-ad4c-488d-a1a3-f0e6e0ab1773",
   "metadata": {},
   "outputs": [
    {
     "name": "stdout",
     "output_type": "stream",
     "text": [
      "[[10 11 12 13 14 15 16 17 18 19]\n",
      " [20 21 22 23 24 25 26 27 28 29]\n",
      " [30 31 32 33 34 35 36 37 38 39]\n",
      " [40 41 42 43 44 45 46 47 48 49]\n",
      " [50 51 52 53 54 55 56 57 58 59]\n",
      " [60 61 62 63 64 65 66 67 68 69]\n",
      " [70 71 72 73 74 75 76 77 78 79]\n",
      " [80 81 82 83 84 85 86 87 88 89]\n",
      " [90 91 92 93 94 95 96 97 98 99]]\n"
     ]
    }
   ],
   "source": [
    "# Exercise 12\n",
    "#  Turn the result of Exercise 11 into a 9x10 array\n",
    "\n",
    "tmp = np.arange(10, 100)\n",
    "print(tmp.reshape(9, 10))"
   ]
  },
  {
   "cell_type": "code",
   "execution_count": 85,
   "id": "36e9c29e-395b-49cc-a035-37b25963b34b",
   "metadata": {},
   "outputs": [
    {
     "name": "stdout",
     "output_type": "stream",
     "text": [
      "[[1 0 0 0 0 0]\n",
      " [0 1 0 0 0 0]\n",
      " [0 0 1 0 0 0]\n",
      " [0 0 0 1 0 0]\n",
      " [0 0 0 0 1 0]\n",
      " [0 0 0 0 0 1]]\n"
     ]
    }
   ],
   "source": [
    "# Exercise 13\n",
    "#  Create a 6x6 identity matrix with the int data type\n",
    "\n",
    "print(np.eye(6, 6, dtype = int))"
   ]
  },
  {
   "cell_type": "code",
   "execution_count": 86,
   "id": "f3babdea-de01-4572-a30e-3f3ffa712431",
   "metadata": {},
   "outputs": [
    {
     "name": "stdout",
     "output_type": "stream",
     "text": [
      "[0.77132064 0.02075195 0.63364823 0.74880388 0.49850701 0.22479665\n",
      " 0.19806286 0.76053071 0.16911084 0.08833981 0.68535982 0.95339335\n",
      " 0.00394827 0.51219226 0.81262096 0.61252607 0.72175532 0.29187607\n",
      " 0.91777412 0.71457578 0.54254437 0.14217005 0.37334076 0.67413362\n",
      " 0.44183317 0.43401399 0.61776698 0.51313824 0.65039718 0.60103895]\n"
     ]
    }
   ],
   "source": [
    "# Exercise 14\n",
    "#  Set seed to 10, then create a 1D array consisting of 30 randomly generated values from the uniform distribution [0, 1)\n",
    "\n",
    "np.random.seed(10)\n",
    "\n",
    "print(np.random.rand(30))"
   ]
  },
  {
   "cell_type": "code",
   "execution_count": 87,
   "id": "66a44c0b-bf55-447b-932a-356ed1603e33",
   "metadata": {},
   "outputs": [
    {
     "name": "stdout",
     "output_type": "stream",
     "text": [
      "[[ 0.88389311  0.19586502  0.35753652 -2.34326191]\n",
      " [-1.08483259  0.55969629  0.93946935 -0.97848104]\n",
      " [ 0.50309684  0.40641447  0.32346101 -0.49341088]\n",
      " [-0.79201679 -0.84236793 -1.27950266  0.24571517]\n",
      " [-0.0441948   1.56763255  1.05110868  0.40636843]\n",
      " [-0.1686461  -3.18970279  1.12013226  1.33277821]\n",
      " [-0.24333877 -0.13003071 -0.10901737  1.55618644]\n",
      " [ 0.12877835 -2.06694872 -0.88549315 -1.10457948]\n",
      " [ 0.93286635  2.059838   -0.93493796 -1.61299022]\n",
      " [ 0.52706972 -1.55110074  0.32961334 -1.13652654]]\n"
     ]
    }
   ],
   "source": [
    "# Exercise 15\n",
    "#  Set the random seed to 20 and create a 10x4 randomly generated array from the standard normal distribution N(0, 1)\n",
    "\n",
    "np.random.seed(20)\n",
    "\n",
    "print(np.random.randn(10, 4))"
   ]
  },
  {
   "cell_type": "code",
   "execution_count": 88,
   "id": "b4c2ed36-13bc-4ba0-9ed1-656054bedaa8",
   "metadata": {},
   "outputs": [
    {
     "name": "stdout",
     "output_type": "stream",
     "text": [
      "[[ 97.17349231 103.41650023  97.82942436 101.05220329]\n",
      " [ 99.7748353  100.67930221  96.14063068 103.544381  ]\n",
      " [100.30029631  97.52499594 103.52901961 100.24037271]\n",
      " [ 98.29153712  98.2666258  103.09437633 101.70027274]\n",
      " [ 99.36127721 101.20382627  95.34026547 102.09694365]\n",
      " [ 99.98708001  98.95468525  99.05410904 102.38025432]\n",
      " [ 93.50787269 103.61547679 103.18753701  98.51356237]\n",
      " [102.20256689  96.19764407  97.54000366  97.05813038]\n",
      " [101.81233513  97.66380453  98.45883627  98.09317768]\n",
      " [102.48979932  95.70413391  98.43161651 101.89861815]]\n"
     ]
    }
   ],
   "source": [
    "# Exercise 16\n",
    "#  Set the random seed to 30 and create a 10x4 array with values randomly generated from N(100, 5)\n",
    "import math\n",
    "\n",
    "np.random.seed(30)\n",
    "\n",
    "print(100 + math.sqrt(5) * np.random.randn(10, 4))"
   ]
  },
  {
   "cell_type": "code",
   "execution_count": 89,
   "id": "1d529a74-cf9d-4b39-96b6-cfb369655858",
   "metadata": {},
   "outputs": [
    {
     "name": "stdout",
     "output_type": "stream",
     "text": [
      "1\n",
      "4\n",
      "3\n",
      "5\n",
      "2\n",
      "6\n"
     ]
    }
   ],
   "source": [
    "# Exercise 17\n",
    "#  Iterate over all elements of the given array and print each element to the console\n",
    "\n",
    "A = np.array([[1, 4, 3],\n",
    "              [5, 2, 6]])\n",
    "\n",
    "for x in np.nditer(A):\n",
    "    print(x)"
   ]
  },
  {
   "cell_type": "code",
   "execution_count": 91,
   "id": "f1f9a407-d36f-480c-8273-dd9db462c05c",
   "metadata": {},
   "outputs": [
    {
     "name": "stdout",
     "output_type": "stream",
     "text": [
      "[0.  0.1 0.2 0.3 0.4 0.5 0.6 0.7 0.8 0.9 1. ]\n"
     ]
    }
   ],
   "source": [
    "# Exercise 18\n",
    "#  Create a 1D vector consisting of 11 evenly distributed numbers in the [0, 1] interval\n",
    "\n",
    "print(np.linspace(0.0, 1.0, num = 11))"
   ]
  },
  {
   "cell_type": "code",
   "execution_count": 96,
   "id": "779d1037-b263-475c-b83d-3493a007e8d8",
   "metadata": {},
   "outputs": [
    {
     "name": "stdout",
     "output_type": "stream",
     "text": [
      "[14 46 48 45 18 28]\n"
     ]
    }
   ],
   "source": [
    "# Exercise 19\n",
    "#  Create a 1D array with the possible results from the Big Lotto game; set the random seed to 42\n",
    "#  The result of the Big Lotto game is a 6 element vector with numbers between 1 and 49 inclusive\n",
    "\n",
    "np.random.seed(42)\n",
    "\n",
    "print(np.random.choice(range(1, 50), size = 6, replace = False))"
   ]
  },
  {
   "cell_type": "code",
   "execution_count": 100,
   "id": "2bb7f123-8bb1-4738-88a4-78183e1423b4",
   "metadata": {},
   "outputs": [
    {
     "data": {
      "text/plain": [
       "array([[0, 0, 0, 0, 0, 0],\n",
       "       [0, 1, 0, 0, 0, 0],\n",
       "       [0, 0, 2, 0, 0, 0],\n",
       "       [0, 0, 0, 3, 0, 0],\n",
       "       [0, 0, 0, 0, 4, 0],\n",
       "       [0, 0, 0, 0, 0, 5]])"
      ]
     },
     "execution_count": 100,
     "metadata": {},
     "output_type": "execute_result"
    }
   ],
   "source": [
    "# Exercise 20\n",
    "#  Create a 2D array with diagonals containing the given array\n",
    "\n",
    "A = np.array(range(0, 6))\n",
    "\n",
    "print(np.diag(A))"
   ]
  },
  {
   "cell_type": "code",
   "execution_count": 114,
   "id": "af11ac5a-eaba-477b-9153-a70054164684",
   "metadata": {},
   "outputs": [],
   "source": [
    "# Exercise 21\n",
    "#  Create the given array, then same to a binary file named array.npy then load this file back into another variable\n",
    "#  print the new variable to the console\n",
    "\n",
    "A = np.array(range(0, 12)).reshape(3, 4)\n",
    "\n",
    "# np.save(\n",
    "#     '/Users/darrenwong//Documents/Projects/kaggle/udemy-courses/2-numpy-pandas-and-scikit-learn/inter/array.npy', \n",
    "#     A\n",
    "# )\n",
    "\n",
    "# B = np.load('/Users/darrenwong//Documents/Projects/kaggle/udemy-courses/2-numpy-pandas-and-scikit-learn/inter/array.npy')\n",
    "\n",
    "# print(B)"
   ]
  },
  {
   "cell_type": "code",
   "execution_count": 115,
   "id": "185f88fe-0167-4207-900e-a28f5631855c",
   "metadata": {},
   "outputs": [],
   "source": [
    "# Exercise 22\n",
    "#  Save the previously created array to a text file named array.txt with 2 decimal places, then load it back in another variable\n",
    "\n",
    "# np.savetxt(\n",
    "#     '/Users/darrenwong//Documents/Projects/kaggle/udemy-courses/2-numpy-pandas-and-scikit-learn/inter/array.txt', \n",
    "#     A,\n",
    "#     fmt = '%1.2f'\n",
    "# )\n",
    "\n",
    "# B = np.loadtxt('/Users/darrenwong//Documents/Projects/kaggle/udemy-courses/2-numpy-pandas-and-scikit-learn/inter/array.txt')\n",
    "\n",
    "# print(B)"
   ]
  },
  {
   "cell_type": "code",
   "execution_count": null,
   "id": "1072cb4d-17c6-4514-a7b8-2682b3d47461",
   "metadata": {},
   "outputs": [],
   "source": [
    "# Exercise 23\n",
    "#  Convert the previously provided array to a list\n",
    "\n",
    "print(A.tolist())"
   ]
  },
  {
   "cell_type": "code",
   "execution_count": 120,
   "id": "d13f2988-9b4f-4480-a67e-6736a29fbf97",
   "metadata": {},
   "outputs": [
    {
     "name": "stdout",
     "output_type": "stream",
     "text": [
      "[[ 8  9 10 11]\n",
      " [ 4  5  6  7]\n",
      " [ 0  1  2  3]]\n",
      "[[ 8  9 10 11]\n",
      " [ 4  5  6  7]\n",
      " [ 0  1  2  3]]\n"
     ]
    }
   ],
   "source": [
    "# Exercise 24\n",
    "#  Use the slice operator to reverse the order of the rows in the previously provided array\n",
    "\n",
    "print(A[::-1]) # or\n",
    "print(np.flip(A, axis=0))"
   ]
  },
  {
   "cell_type": "code",
   "execution_count": 129,
   "id": "db4856e3-8893-4d53-a73c-7c7caa6309e9",
   "metadata": {},
   "outputs": [
    {
     "name": "stdout",
     "output_type": "stream",
     "text": [
      "[[0. 0. 0. 0. 0. 0.]\n",
      " [0. 1. 1. 1. 1. 0.]\n",
      " [0. 1. 1. 1. 1. 0.]\n",
      " [0. 1. 1. 1. 1. 0.]\n",
      " [0. 1. 1. 1. 1. 0.]\n",
      " [0. 0. 0. 0. 0. 0.]]\n"
     ]
    }
   ],
   "source": [
    "# Exercise 25\n",
    "#  Take a 4x4 array of 1.0s and pad it with a single layer of 0.0s\n",
    "\n",
    "A = np.ones((4, 4))\n",
    "\n",
    "print(np.pad(A, 1, constant_values=0))"
   ]
  },
  {
   "cell_type": "code",
   "execution_count": 133,
   "id": "06dbda9b-cd6d-4bbd-9507-b895b4a6f97f",
   "metadata": {},
   "outputs": [
    {
     "name": "stdout",
     "output_type": "stream",
     "text": [
      "[[0. 0. 0. 0. 0. 0.]\n",
      " [0. 0. 0. 0. 0. 0.]\n",
      " [0. 0. 0. 0. 0. 0.]\n",
      " [0. 0. 0. 0. 0. 0.]\n",
      " [0. 0. 0. 0. 0. 0.]\n",
      " [0. 0. 0. 0. 0. 0.]]\n"
     ]
    }
   ],
   "source": [
    "# Exercise 26\n",
    "#  Take a 6x6 array of zeroes and replace every odd numbered column with B; use the slice operator\n",
    "\n",
    "A = np.zeros((6, 6))\n",
    "B = [10, 5, 10, 5, 10, 5]\n"
   ]
  },
  {
   "cell_type": "code",
   "execution_count": null,
   "id": "564c5b5b-6ecd-4ee4-9b31-d8f48c0e61ff",
   "metadata": {},
   "outputs": [],
   "source": [
    "# Exercise 27\n",
    "#  "
   ]
  },
  {
   "cell_type": "code",
   "execution_count": null,
   "id": "e3a11a4d-b9e0-4281-b455-cc8c93eec065",
   "metadata": {},
   "outputs": [],
   "source": [
    "# Exercise 28\n",
    "#  "
   ]
  },
  {
   "cell_type": "code",
   "execution_count": null,
   "id": "b18b4ff6-6f00-40bc-b136-3e5216f6040a",
   "metadata": {},
   "outputs": [],
   "source": [
    "# Exercise 29\n",
    "#  "
   ]
  },
  {
   "cell_type": "code",
   "execution_count": null,
   "id": "cee10adf-bebd-4239-aea3-bb1b1df7c016",
   "metadata": {},
   "outputs": [],
   "source": [
    "# Exercise 30\n",
    "#  "
   ]
  },
  {
   "cell_type": "code",
   "execution_count": null,
   "id": "e3534536-3cfe-4b2b-a66a-878af305b71a",
   "metadata": {},
   "outputs": [],
   "source": [
    "# Exercise 31\n",
    "#  "
   ]
  },
  {
   "cell_type": "code",
   "execution_count": null,
   "id": "71e7ec3a-d2a6-4a4b-b986-abfee9c837fd",
   "metadata": {},
   "outputs": [],
   "source": [
    "# Exercise 32\n",
    "#  "
   ]
  },
  {
   "cell_type": "code",
   "execution_count": null,
   "id": "be2e968f-9493-4f48-b144-0c4372983cf7",
   "metadata": {},
   "outputs": [],
   "source": [
    "# Exercise 33\n",
    "#  "
   ]
  },
  {
   "cell_type": "code",
   "execution_count": null,
   "id": "11da40a9-36ae-43cd-83b9-de4dc4a902ef",
   "metadata": {},
   "outputs": [],
   "source": [
    "# Exercise 34\n",
    "#  "
   ]
  }
 ],
 "metadata": {
  "kernelspec": {
   "display_name": "Python 3 (ipykernel)",
   "language": "python",
   "name": "python3"
  },
  "language_info": {
   "codemirror_mode": {
    "name": "ipython",
    "version": 3
   },
   "file_extension": ".py",
   "mimetype": "text/x-python",
   "name": "python",
   "nbconvert_exporter": "python",
   "pygments_lexer": "ipython3",
   "version": "3.9.12"
  }
 },
 "nbformat": 4,
 "nbformat_minor": 5
}
