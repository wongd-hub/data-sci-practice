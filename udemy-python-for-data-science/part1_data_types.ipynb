{
 "cells": [
  {
   "cell_type": "markdown",
   "id": "d6403b9e-87ba-44ba-99af-9f5876c11531",
   "metadata": {},
   "source": [
    "# [Python Crash Course for Data Science and Machine Learning](https://www.udemy.com/course/python-crash-course-for-data-science-and-machine-learning)\n",
    "## Variables and Data Types\n",
    "\n",
    "Python is dynamically typed; we don't need to declare variable types as we assign them. Some primitive types:"
   ]
  },
  {
   "cell_type": "code",
   "execution_count": 4,
   "id": "26f003b2-4bba-4fd6-b8c0-eb93daa8f36e",
   "metadata": {
    "jp-MarkdownHeadingCollapsed": true,
    "tags": []
   },
   "outputs": [
    {
     "data": {
      "text/plain": [
       "int"
      ]
     },
     "execution_count": 4,
     "metadata": {},
     "output_type": "execute_result"
    }
   ],
   "source": [
    "a = 10\n",
    "type(a)"
   ]
  },
  {
   "cell_type": "code",
   "execution_count": 5,
   "id": "694ebfe1-ec00-4305-9733-28d5dfda1087",
   "metadata": {},
   "outputs": [
    {
     "data": {
      "text/plain": [
       "float"
      ]
     },
     "execution_count": 5,
     "metadata": {},
     "output_type": "execute_result"
    }
   ],
   "source": [
    "b = 10.5\n",
    "type(b)"
   ]
  },
  {
   "cell_type": "code",
   "execution_count": 6,
   "id": "20194e51-5272-4e88-9023-cc153fe32218",
   "metadata": {},
   "outputs": [
    {
     "data": {
      "text/plain": [
       "bool"
      ]
     },
     "execution_count": 6,
     "metadata": {},
     "output_type": "execute_result"
    }
   ],
   "source": [
    "c = True\n",
    "type(c)"
   ]
  },
  {
   "cell_type": "code",
   "execution_count": 7,
   "id": "1e2216b8-6a02-4e25-8a73-2562a3b54b70",
   "metadata": {},
   "outputs": [
    {
     "data": {
      "text/plain": [
       "list"
      ]
     },
     "execution_count": 7,
     "metadata": {},
     "output_type": "execute_result"
    }
   ],
   "source": [
    "d = [\"Blue\", \"Green\"]\n",
    "type(d)"
   ]
  },
  {
   "cell_type": "markdown",
   "id": "b8c80996-c75a-4f66-9e66-b5fa90a2641a",
   "metadata": {},
   "source": [
    "Multiple assignment:"
   ]
  },
  {
   "cell_type": "code",
   "execution_count": 8,
   "id": "8a4cf312-af3a-4380-820f-ab05aa777e04",
   "metadata": {},
   "outputs": [
    {
     "name": "stdout",
     "output_type": "stream",
     "text": [
      "R G B\n"
     ]
    }
   ],
   "source": [
    "e1, e2, e3 = 'R', 'G', 'B'\n",
    "print(e1, e2, e3)"
   ]
  },
  {
   "cell_type": "code",
   "execution_count": 9,
   "id": "8bc8a311-d64f-49f6-83e2-ac0eea83153a",
   "metadata": {},
   "outputs": [
    {
     "name": "stdout",
     "output_type": "stream",
     "text": [
      "10 10 10\n"
     ]
    }
   ],
   "source": [
    "f1 = f2 = f3 = 10\n",
    "print(f1, f2, f3)"
   ]
  },
  {
   "cell_type": "markdown",
   "id": "35b3af2e-45c0-4f7d-936b-2a38fb20ba12",
   "metadata": {},
   "source": [
    "Comments are denoted using the hash symbol:"
   ]
  },
  {
   "cell_type": "code",
   "execution_count": null,
   "id": "6ebea241-e154-4b98-831e-33e7650c4f92",
   "metadata": {},
   "outputs": [],
   "source": [
    "# This is a comment."
   ]
  },
  {
   "cell_type": "markdown",
   "id": "83dd4434-7a9a-460b-a304-e52f09179cca",
   "metadata": {},
   "source": [
    "## Strings\n",
    "\n",
    "Single and double quotes are interchangeable here."
   ]
  }
 ],
 "metadata": {
  "kernelspec": {
   "display_name": "Python 3 (ipykernel)",
   "language": "python",
   "name": "python3"
  },
  "language_info": {
   "codemirror_mode": {
    "name": "ipython",
    "version": 3
   },
   "file_extension": ".py",
   "mimetype": "text/x-python",
   "name": "python",
   "nbconvert_exporter": "python",
   "pygments_lexer": "ipython3",
   "version": "3.9.12"
  }
 },
 "nbformat": 4,
 "nbformat_minor": 5
}
