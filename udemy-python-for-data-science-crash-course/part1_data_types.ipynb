{
 "cells": [
  {
   "cell_type": "markdown",
   "id": "d6403b9e-87ba-44ba-99af-9f5876c11531",
   "metadata": {},
   "source": [
    "# [Python Crash Course for Data Science and Machine Learning](https://www.udemy.com/course/python-crash-course-for-data-science-and-machine-learning)\n",
    "## Variables and Data Types\n",
    "\n",
    "Python is dynamically typed; we don't need to declare variable types as we assign them. Some primitive types:"
   ]
  },
  {
   "cell_type": "code",
   "execution_count": 4,
   "id": "26f003b2-4bba-4fd6-b8c0-eb93daa8f36e",
   "metadata": {
    "jp-MarkdownHeadingCollapsed": true,
    "tags": []
   },
   "outputs": [
    {
     "data": {
      "text/plain": [
       "int"
      ]
     },
     "execution_count": 4,
     "metadata": {},
     "output_type": "execute_result"
    }
   ],
   "source": [
    "a = 10\n",
    "type(a)"
   ]
  },
  {
   "cell_type": "code",
   "execution_count": 5,
   "id": "694ebfe1-ec00-4305-9733-28d5dfda1087",
   "metadata": {},
   "outputs": [
    {
     "data": {
      "text/plain": [
       "float"
      ]
     },
     "execution_count": 5,
     "metadata": {},
     "output_type": "execute_result"
    }
   ],
   "source": [
    "b = 10.5\n",
    "type(b)"
   ]
  },
  {
   "cell_type": "code",
   "execution_count": 6,
   "id": "20194e51-5272-4e88-9023-cc153fe32218",
   "metadata": {},
   "outputs": [
    {
     "data": {
      "text/plain": [
       "bool"
      ]
     },
     "execution_count": 6,
     "metadata": {},
     "output_type": "execute_result"
    }
   ],
   "source": [
    "c = True\n",
    "type(c)"
   ]
  },
  {
   "cell_type": "code",
   "execution_count": 7,
   "id": "1e2216b8-6a02-4e25-8a73-2562a3b54b70",
   "metadata": {},
   "outputs": [
    {
     "data": {
      "text/plain": [
       "list"
      ]
     },
     "execution_count": 7,
     "metadata": {},
     "output_type": "execute_result"
    }
   ],
   "source": [
    "d = [\"Blue\", \"Green\"]\n",
    "type(d)"
   ]
  },
  {
   "cell_type": "code",
   "execution_count": 8,
   "id": "8a4cf312-af3a-4380-820f-ab05aa777e04",
   "metadata": {},
   "outputs": [
    {
     "name": "stdout",
     "output_type": "stream",
     "text": [
      "R G B\n"
     ]
    }
   ],
   "source": [
    "# Multiple assignment\n",
    "e1, e2, e3 = 'R', 'G', 'B'\n",
    "print(e1, e2, e3)"
   ]
  },
  {
   "cell_type": "code",
   "execution_count": 9,
   "id": "8bc8a311-d64f-49f6-83e2-ac0eea83153a",
   "metadata": {},
   "outputs": [
    {
     "name": "stdout",
     "output_type": "stream",
     "text": [
      "10 10 10\n"
     ]
    }
   ],
   "source": [
    "f1 = f2 = f3 = 10\n",
    "print(f1, f2, f3)"
   ]
  },
  {
   "cell_type": "markdown",
   "id": "35b3af2e-45c0-4f7d-936b-2a38fb20ba12",
   "metadata": {},
   "source": [
    "Comments are denoted using the hash symbol:"
   ]
  },
  {
   "cell_type": "code",
   "execution_count": null,
   "id": "6ebea241-e154-4b98-831e-33e7650c4f92",
   "metadata": {},
   "outputs": [],
   "source": [
    "# This is a comment."
   ]
  },
  {
   "cell_type": "markdown",
   "id": "83dd4434-7a9a-460b-a304-e52f09179cca",
   "metadata": {},
   "source": [
    "## Strings\n",
    "\n",
    "Single and double quotes are interchangeable here."
   ]
  },
  {
   "cell_type": "code",
   "execution_count": 10,
   "id": "a9fe0970-b76d-415e-afb3-5d47feaec259",
   "metadata": {},
   "outputs": [
    {
     "data": {
      "text/plain": [
       "True"
      ]
     },
     "execution_count": 10,
     "metadata": {},
     "output_type": "execute_result"
    }
   ],
   "source": [
    "str1 = \"Hello\"\n",
    "str2 = 'Hello'\n",
    "str1 == str2"
   ]
  },
  {
   "cell_type": "markdown",
   "id": "45194423-65c4-4b75-9ebe-bbc694c35e43",
   "metadata": {},
   "source": [
    "Some string-related methods:"
   ]
  },
  {
   "cell_type": "code",
   "execution_count": 13,
   "id": "08f91d7f-98b4-46b9-bc02-174f3843394c",
   "metadata": {},
   "outputs": [
    {
     "data": {
      "text/plain": [
       "5"
      ]
     },
     "execution_count": 13,
     "metadata": {},
     "output_type": "execute_result"
    }
   ],
   "source": [
    "# Find length of string\n",
    "len(str1)"
   ]
  },
  {
   "cell_type": "code",
   "execution_count": 14,
   "id": "dd3b5fbf-5f4d-47d2-bb4a-f6e7c16ba1e4",
   "metadata": {},
   "outputs": [
    {
     "name": "stdout",
     "output_type": "stream",
     "text": [
      "True\n"
     ]
    }
   ],
   "source": [
    "# Check for existence of sub-string within string\n",
    "print('ll' in str1)\n",
    "print('zz' in str1)"
   ]
  },
  {
   "cell_type": "code",
   "execution_count": 15,
   "id": "a1dc71ae-f711-4ae7-b749-23db6b729da0",
   "metadata": {},
   "outputs": [
    {
     "name": "stdout",
     "output_type": "stream",
     "text": [
      "HELLO\n",
      "hello\n"
     ]
    }
   ],
   "source": [
    "# Change case\n",
    "print(str1.upper())\n",
    "print(str1.lower())"
   ]
  },
  {
   "cell_type": "code",
   "execution_count": 18,
   "id": "08e719ec-d697-46ec-84ec-1c0d78be17e2",
   "metadata": {},
   "outputs": [
    {
     "name": "stdout",
     "output_type": "stream",
     "text": [
      "['Hello', 'World']\n"
     ]
    }
   ],
   "source": [
    "# Splitting strings into sub-strings using a separator\n",
    "str3 = 'Hello World'\n",
    "print(str3.split(' '))"
   ]
  },
  {
   "cell_type": "code",
   "execution_count": 22,
   "id": "99a50fa6-516d-4dca-b326-418937fead9a",
   "metadata": {},
   "outputs": [
    {
     "name": "stdout",
     "output_type": "stream",
     "text": [
      "Hi, JEAN. Your ID number is 24601.\n"
     ]
    }
   ],
   "source": [
    "# Formatting strings (string interpolation)\n",
    "name, person_ID = 'Jean', '24601'\n",
    "print(f\"Hi, {name.upper()}. Your ID number is {person_ID}.\")"
   ]
  },
  {
   "cell_type": "markdown",
   "id": "ccd4c937-86f2-482d-a4e5-32eb8dcb1911",
   "metadata": {},
   "source": [
    "## Lists\n",
    "\n",
    "Used to store ordered collections of data."
   ]
  },
  {
   "cell_type": "code",
   "execution_count": 26,
   "id": "ff53d099-e6ff-4677-93b9-7de7389afda6",
   "metadata": {},
   "outputs": [
    {
     "name": "stdout",
     "output_type": "stream",
     "text": [
      "['Red', 'Green', 'Blue', 'Yellow']\n"
     ]
    }
   ],
   "source": [
    "colours = ['Red', 'Green', 'Blue', 'Yellow']\n",
    "print(colours)"
   ]
  },
  {
   "cell_type": "code",
   "execution_count": 27,
   "id": "4fde27fd-09ab-4282-90b6-38cae5f669d2",
   "metadata": {},
   "outputs": [
    {
     "name": "stdout",
     "output_type": "stream",
     "text": [
      "Red\n"
     ]
    }
   ],
   "source": [
    "# Access and element in a list\n",
    "print(colours[0])"
   ]
  },
  {
   "cell_type": "code",
   "execution_count": 29,
   "id": "70a150d3-286b-49b0-b915-0fd33828de85",
   "metadata": {},
   "outputs": [
    {
     "name": "stdout",
     "output_type": "stream",
     "text": [
      "['Green', 'Blue']\n",
      "['Red', 'Green', 'Blue']\n",
      "['Blue', 'Yellow']\n"
     ]
    }
   ],
   "source": [
    "# Accessing multiple elements in list\n",
    "#  Use the following syntax: list[start:stop:step], will stop one item before the 'stop' argument\n",
    "print(colours[1:3])\n",
    "\n",
    "#  Start from beginning\n",
    "print(colours[:3])\n",
    "\n",
    "#  End at end of list\n",
    "print(colours[2:])"
   ]
  },
  {
   "cell_type": "code",
   "execution_count": null,
   "id": "1e6792ce-867d-4419-ab0a-250ed1d50f9a",
   "metadata": {},
   "outputs": [],
   "source": [
    "# To copy a list, create a new variable with a slice that contains the whole target list\n",
    "colours_new = colours[:]\n",
    "\n",
    "# Creating a shallow copy - any modifications to colours_new2 will also modify colours\n",
    "colours_new2 = colours"
   ]
  },
  {
   "cell_type": "code",
   "execution_count": 24,
   "id": "a04154ff-6d07-402a-ad50-9fd6e78d5aca",
   "metadata": {},
   "outputs": [
    {
     "name": "stdout",
     "output_type": "stream",
     "text": [
      "[1, 2, 3, 4, 5, 6, 7, 8, 9]\n"
     ]
    }
   ],
   "source": [
    "# Create a list containing a range of numbers\n",
    "print(list(range(1, 10)))"
   ]
  },
  {
   "cell_type": "code",
   "execution_count": null,
   "id": "7e25d22a-0182-4098-8a3b-249dbaaf97f3",
   "metadata": {},
   "outputs": [],
   "source": [
    "# Sort a list, whilst:\n",
    "#  Not modifying the original list\n",
    "print(sorted(colours))\n",
    "\n",
    "#  Modifying the original list\n",
    "print(colours.sort())"
   ]
  },
  {
   "cell_type": "code",
   "execution_count": null,
   "id": "2cbe480e-b9f4-4c91-ba5c-7c6ee8d550f3",
   "metadata": {},
   "outputs": [],
   "source": [
    "# Appending new items\n",
    "colours.append('Coral')\n",
    "print(colours)"
   ]
  },
  {
   "cell_type": "code",
   "execution_count": null,
   "id": "b870316a-7d0b-4a49-b8a2-0bcf31d84519",
   "metadata": {},
   "outputs": [],
   "source": [
    "# Removing elements from a list:\n",
    "#  By position\n",
    "del colours[1]\n",
    "\n",
    "#  By value\n",
    "colours.remove('Coral')"
   ]
  },
  {
   "cell_type": "code",
   "execution_count": null,
   "id": "8c618138-b573-4c28-8840-8c5478b51417",
   "metadata": {},
   "outputs": [],
   "source": [
    "# Length of list\n",
    "print(len(colours))"
   ]
  },
  {
   "cell_type": "code",
   "execution_count": null,
   "id": "3be7b90b-5134-4e09-9eaa-8caf30ab2ffe",
   "metadata": {},
   "outputs": [],
   "source": [
    "# Concatenate lists with the '+' operator\n",
    "print(colours + ['Aquamarine', 'Teal'])"
   ]
  },
  {
   "cell_type": "code",
   "execution_count": null,
   "id": "b83f89d1-aa87-454f-815b-c990c523dd8d",
   "metadata": {},
   "outputs": [],
   "source": [
    "# Tuples are immutable lists; unable to be changed after initiation\n",
    "my_tuple = (1, 2, 3)\n",
    "print(my_tuple[2])"
   ]
  },
  {
   "cell_type": "markdown",
   "id": "c3506caa-d314-4162-b3c2-aa165fe1d5db",
   "metadata": {},
   "source": [
    "## Dictionaries\n",
    "\n"
   ]
  }
 ],
 "metadata": {
  "kernelspec": {
   "display_name": "Python 3 (ipykernel)",
   "language": "python",
   "name": "python3"
  },
  "language_info": {
   "codemirror_mode": {
    "name": "ipython",
    "version": 3
   },
   "file_extension": ".py",
   "mimetype": "text/x-python",
   "name": "python",
   "nbconvert_exporter": "python",
   "pygments_lexer": "ipython3",
   "version": "3.9.12"
  }
 },
 "nbformat": 4,
 "nbformat_minor": 5
}
